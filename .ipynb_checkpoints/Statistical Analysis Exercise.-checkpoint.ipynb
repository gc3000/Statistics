{
 "cells": [
  {
   "cell_type": "markdown",
   "metadata": {},
   "source": [
    "## Statistical Analysis of Diabetes and Movie Datasets\n"
   ]
  },
  {
   "cell_type": "markdown",
   "metadata": {},
   "source": [
    "#### Question 1\n",
    "\n",
    "Consider the following data set of per capita consumption of mozzarella cheese and computer science degrees awarded,\n",
    "for years 2000 to 2009."
   ]
  },
  {
   "cell_type": "code",
   "execution_count": 2,
   "metadata": {},
   "outputs": [],
   "source": [
    "# Per capita consumption of mozzarella cheese (US)\n",
    "# 2000 to 2009\n",
    "# (in lbs) \n",
    "\n",
    "cheese <- c(9.3,9.7,9.7,9.7,9.9,10.2,10.5,11,10.6,10.6)\n",
    "\n",
    "# Computer science doctorates awarded (US)\n",
    "csdegrees <- c(861,830,809,867,948,1129, 1453, 1656, 1787, 1611)"
   ]
  },
  {
   "cell_type": "markdown",
   "metadata": {},
   "source": [
    "(a) Plot the most appropriate graph to determine if the data is correlated"
   ]
  },
  {
   "cell_type": "code",
   "execution_count": 3,
   "metadata": {},
   "outputs": [
    {
     "data": {
      "image/png": "[encoded data removed]",
      "text/plain": [
       "Plot with title \"CS degrees vs mozzarella cheese\n",
       "consumption\""
      ]
     },
     "metadata": {},
     "output_type": "display_data"
    }
   ],
   "source": [
    "options(repr.plot.width = 8, repr.plot.height = 5)\n",
    "plot(csdegrees, cheese, xlab = \"CS degrees awarded (US)\", ylab = \"Per capita mozzarella (US)\", main = \"CS degrees vs mozzarella cheese\n",
    "consumption\", pch = 16, col = \"blue\")"
   ]
  },
  {
   "cell_type": "markdown",
   "metadata": {},
   "source": [
    "(b) Run the best test to determine linear correlation together with calculated 95% confidence intervals  "
   ]
  },
  {
   "cell_type": "code",
   "execution_count": 4,
   "metadata": {},
   "outputs": [
    {
     "name": "stdout",
     "output_type": "stream",
     "text": [
      "p-value:  0.0001059155 \n",
      "Linear Correlation:  0.9283097 \n",
      " 95% Confidence interval:  0.7188325 0.9832424"
     ]
    }
   ],
   "source": [
    "# Run a Pearson's product-moment correlation test to determine the correlation between csdegrees awarded in the US from 2001-2009 and\n",
    "# mozarella cheese consumption per capita in the US. \n",
    "\n",
    "cor_test <- cor.test(csdegrees, cheese, conf.level = 0.95)\n",
    "cat(\"p-value: \", cor_test$p.value, \"\\n\")\n",
    "\n",
    "cat(\"Linear Correlation: \", cor_test$estimate, \"\\n\", \"95% Confidence interval: \", cor_test$conf.int)"
   ]
  },
  {
   "cell_type": "markdown",
   "metadata": {},
   "source": [
    "(c) Can you conclude the datasets are correlated? Give an explanation for why you think it is/is not the case"
   ]
  },
  {
   "cell_type": "markdown",
   "metadata": {},
   "source": [
    "Yes, we can conclude the data sets are correlated. This is because the p-value given by the pearson test is 0.0001 which is statistically significant if we assume an $\\alpha$ of 0.05 and even 0.01. Using the permutation test below as well where the redline on the histogram indicates where the observed linear correlation value would lie, we can conclude similar results as it is outside the bounds of the critical values for when $\\alpha$ is 0.05. "
   ]
  },
  {
   "cell_type": "code",
   "execution_count": 5,
   "metadata": {},
   "outputs": [
    {
     "data": {
      "text/html": [
       "0"
      ],
      "text/latex": [
       "0"
      ],
      "text/markdown": [
       "0"
      ],
      "text/plain": [
       "[1] 0"
      ]
     },
     "metadata": {},
     "output_type": "display_data"
    },
    {
     "data": {
      "image/png": "[encoded data removed]",
      "text/plain": [
       "Plot with title \"Histogram of correlations\""
      ]
     },
     "metadata": {},
     "output_type": "display_data"
    }
   ],
   "source": [
    "options(repr.plot.width = 8, repr.plot.height = 5)\n",
    "x <- replicate(1000, {\n",
    "    perm.csdegrees <- sample(csdegrees, replace = TRUE)\n",
    "    sim <- cor.test(perm.csdegrees, cheese, conf.level = 0.95)$estimate\n",
    "    })\n",
    "\n",
    "hist(x, col = 'lightblue', main = \"Histogram of correlations\")\n",
    "\n",
    "abline(v = c(cor_test$estimate), col = 'red')\n",
    "\n",
    "# critical p values.\n",
    "crit_p <- quantile(x, c(0.025, 0.975))\n",
    "abline(v = crit_p, col = 'darkblue')\n",
    "\n",
    "# P test\n",
    "p_val <- mean(x>cor_test$estimate)+ mean(x < -cor_test$estimate)\n",
    "p_val"
   ]
  },
  {
   "cell_type": "markdown",
   "metadata": {},
   "source": [
    "(d) Perform a least-squares fit, plotting the original data points plus the appropriate line on the same graph."
   ]
  },
  {
   "cell_type": "code",
   "execution_count": 6,
   "metadata": {},
   "outputs": [
    {
     "data": {
      "image/png": "[encoded data removed]",
      "text/plain": [
       "Plot with title \"CS degrees vs mozzarella cheese\n",
       "consumption\""
      ]
     },
     "metadata": {},
     "output_type": "display_data"
    }
   ],
   "source": [
    "# using the lienar model function to find the 'fitted' values of 'a' and 'b' to draw the line of best fit.\n",
    "options(repr.plot.width = 8, repr.plot.height = 5)\n",
    "fcc <- lm(cheese~csdegrees, data = as.data.frame(cbind(csdegrees, cheese)))\n",
    "plot(csdegrees, cheese, xlab = \"CS degrees awarded (US)\", ylab = \"Per capita mozzarella (US)\", main = \"CS degrees vs mozzarella cheese\n",
    "consumption\", pch = 16)\n",
    "abline(fcc, col = 'red')"
   ]
  },
  {
   "cell_type": "markdown",
   "metadata": {},
   "source": [
    "(d) Do you think looking at the line, that this fit is a good explanation? Please give reasons for your choice. Then, using a test given already in the course, plot a graph to demonstrate if this is indeed a good fit."
   ]
  },
  {
   "cell_type": "markdown",
   "metadata": {},
   "source": [
    "Yes, the fit, from inspection, seems to be a good explanation of the trend of the data. This is because the fit seems to minimize the distance between all the data points as we can see from the line and it also shows a positive relationship between the two variables which seems to be the case from superficial inspection of the data points on the plot. Also the datapoints tend to indicate a linear trend which is being shown by the line.\n",
    "\n",
    "However, to see if this is actually a good fit, we should plot a residual graph which should give us a more exact understanding of the how the residuals are scattered. "
   ]
  },
  {
   "cell_type": "code",
   "execution_count": 7,
   "metadata": {},
   "outputs": [
    {
     "data": {
      "image/png": "[encoded data removed]",
      "text/plain": [
       "Plot with title \"Residuals\""
      ]
     },
     "metadata": {},
     "output_type": "display_data"
    }
   ],
   "source": [
    "options(repr.plot.width = 8, repr.plot.height = 5)\n",
    "plot(csdegrees, residuals(fcc), main = \"Residuals\", pch = 16)\n",
    "abline(h=0)"
   ]
  },
  {
   "cell_type": "markdown",
   "metadata": {},
   "source": [
    "Here we can see that in general, the residuals are scattered evenly above and below the 0 horizontal line, so it seems to show the residuals don't follow any particular trend which indicates the linear model is a good fit."
   ]
  },
  {
   "cell_type": "markdown",
   "metadata": {},
   "source": [
    "(e) Can we conclude that computer science PhD awards affect mozzerella cheese consumption ? Explain your answer."
   ]
  },
  {
   "cell_type": "markdown",
   "metadata": {},
   "source": [
    "- Correlation doesn't imply causation. \n",
    "\n",
    "We cannot conclude that computer science Ph.D awards affect mozzerella cheese consumption because correlation doesn't imply casuation. There could be many reasons as to why computer science Ph.D awards and mozzerella cheese consumption seem to have a positive linear relationship. One could be due to a third variable that affects both Ph.D computer science awards and mozzerella cheese consumption."
   ]
  },
  {
   "cell_type": "markdown",
   "metadata": {},
   "source": [
    "(f) Give two suggested improvements to this test to improve the quality of the possible conclusions, explaining\n",
    "why in each case these would help."
   ]
  },
  {
   "cell_type": "markdown",
   "metadata": {},
   "source": [
    "1) Look at the data of mozzerella cheese consumption for computer science degree holders instead of just the general population.\n",
    "\n",
    "One way to improve the test is to get data about mozzerella cheese consumption for computer science degree holders. This would enable us to see a more direct correlation between mozzerella cheese consumption and computer science degree holders. If it is the case that mozzerella cheese consumption increases as one has a computer science degree, we can make a stronger claim that the correlation is one of causation.\n",
    "\n",
    "2) Gather the mozzerella cheese consumption habits of different computer science degree level holders and those without.\n",
    "\n",
    "Getting data about mozzerella cheese consumption and what level of computer science (if any) qualifications the person has will help us improve the test. It could be the case that those with higher degrees may have differing levels of mozerella cheese consumption compared with those with lesser qualifications (PH.D's vs Bachelors) and even those with no qualifications (regular people). If it is the case that those with higher CS degrees have higher mozzerella cheese consumption, we can again make a stronger claim about the correlations of CS degree holders and Mozzerella cheese consumption. It might be the case that we can find that mozzerella cheese consumption may be ranked by Ph.D > Masters > Bachelors > Regular people."
   ]
  },
  {
   "cell_type": "markdown",
   "metadata": {},
   "source": [
    "#### Question 2\n",
    "\n",
    "(a) Download the dataset from https://www.kaggle.com/kumargh/pimaindiansdiabetescsv\n",
    "\n",
    "This contains information about the Pima people from North America.  A number of social and environmental factors have contributed to them having one of the highest rates of type 2 diabetes in the world. This data set contains information of around 700 female individuals, including\n",
    "* ever.pregnant — Whether the individual has ever been pregnant\n",
    "* diastolic — diastolic blood pressure\n",
    "* bmi — Body Mass Index\n",
    "* age — age in years\n",
    "\n",
    "\n"
   ]
  },
  {
   "cell_type": "markdown",
   "metadata": {},
   "source": [
    "## Load the data set."
   ]
  },
  {
   "cell_type": "code",
   "execution_count": 24,
   "metadata": {},
   "outputs": [
    {
     "data": {
      "text/html": [
       "<table>\n",
       "<thead><tr><th scope=col>preg</th><th scope=col>plas</th><th scope=col>pres</th><th scope=col>skin</th><th scope=col>test</th><th scope=col>mass</th><th scope=col>pedi</th><th scope=col>age</th><th scope=col>class</th></tr></thead>\n",
       "<tbody>\n",
       "\t<tr><td> 1   </td><td> 85  </td><td>66   </td><td>29   </td><td>  0  </td><td>26.6 </td><td>0.351</td><td>31   </td><td>0    </td></tr>\n",
       "\t<tr><td> 8   </td><td>183  </td><td>64   </td><td> 0   </td><td>  0  </td><td>23.3 </td><td>0.672</td><td>32   </td><td>1    </td></tr>\n",
       "\t<tr><td> 1   </td><td> 89  </td><td>66   </td><td>23   </td><td> 94  </td><td>28.1 </td><td>0.167</td><td>21   </td><td>0    </td></tr>\n",
       "\t<tr><td> 0   </td><td>137  </td><td>40   </td><td>35   </td><td>168  </td><td>43.1 </td><td>2.288</td><td>33   </td><td>1    </td></tr>\n",
       "\t<tr><td> 5   </td><td>116  </td><td>74   </td><td> 0   </td><td>  0  </td><td>25.6 </td><td>0.201</td><td>30   </td><td>0    </td></tr>\n",
       "\t<tr><td> 3   </td><td> 78  </td><td>50   </td><td>32   </td><td> 88  </td><td>31.0 </td><td>0.248</td><td>26   </td><td>1    </td></tr>\n",
       "\t<tr><td>10   </td><td>115  </td><td> 0   </td><td> 0   </td><td>  0  </td><td>35.3 </td><td>0.134</td><td>29   </td><td>0    </td></tr>\n",
       "\t<tr><td> 2   </td><td>197  </td><td>70   </td><td>45   </td><td>543  </td><td>30.5 </td><td>0.158</td><td>53   </td><td>1    </td></tr>\n",
       "\t<tr><td> 8   </td><td>125  </td><td>96   </td><td> 0   </td><td>  0  </td><td> 0.0 </td><td>0.232</td><td>54   </td><td>1    </td></tr>\n",
       "\t<tr><td> 4   </td><td>110  </td><td>92   </td><td> 0   </td><td>  0  </td><td>37.6 </td><td>0.191</td><td>30   </td><td>0    </td></tr>\n",
       "\t<tr><td>10   </td><td>168  </td><td>74   </td><td> 0   </td><td>  0  </td><td>38.0 </td><td>0.537</td><td>34   </td><td>1    </td></tr>\n",
       "\t<tr><td>10   </td><td>139  </td><td>80   </td><td> 0   </td><td>  0  </td><td>27.1 </td><td>1.441</td><td>57   </td><td>0    </td></tr>\n",
       "\t<tr><td> 1   </td><td>189  </td><td>60   </td><td>23   </td><td>846  </td><td>30.1 </td><td>0.398</td><td>59   </td><td>1    </td></tr>\n",
       "\t<tr><td> 5   </td><td>166  </td><td>72   </td><td>19   </td><td>175  </td><td>25.8 </td><td>0.587</td><td>51   </td><td>1    </td></tr>\n",
       "\t<tr><td> 7   </td><td>100  </td><td> 0   </td><td> 0   </td><td>  0  </td><td>30.0 </td><td>0.484</td><td>32   </td><td>1    </td></tr>\n",
       "</tbody>\n",
       "</table>\n"
      ],
      "text/latex": [
       "\\begin{tabular}{r|lllllllll}\n",
       " preg & plas & pres & skin & test & mass & pedi & age & class\\\\\n",
       "\\hline\n",
       "\t  1    &  85   & 66    & 29    &   0   & 26.6  & 0.351 & 31    & 0    \\\\\n",
       "\t  8    & 183   & 64    &  0    &   0   & 23.3  & 0.672 & 32    & 1    \\\\\n",
       "\t  1    &  89   & 66    & 23    &  94   & 28.1  & 0.167 & 21    & 0    \\\\\n",
       "\t  0    & 137   & 40    & 35    & 168   & 43.1  & 2.288 & 33    & 1    \\\\\n",
       "\t  5    & 116   & 74    &  0    &   0   & 25.6  & 0.201 & 30    & 0    \\\\\n",
       "\t  3    &  78   & 50    & 32    &  88   & 31.0  & 0.248 & 26    & 1    \\\\\n",
       "\t 10    & 115   &  0    &  0    &   0   & 35.3  & 0.134 & 29    & 0    \\\\\n",
       "\t  2    & 197   & 70    & 45    & 543   & 30.5  & 0.158 & 53    & 1    \\\\\n",
       "\t  8    & 125   & 96    &  0    &   0   &  0.0  & 0.232 & 54    & 1    \\\\\n",
       "\t  4    & 110   & 92    &  0    &   0   & 37.6  & 0.191 & 30    & 0    \\\\\n",
       "\t 10    & 168   & 74    &  0    &   0   & 38.0  & 0.537 & 34    & 1    \\\\\n",
       "\t 10    & 139   & 80    &  0    &   0   & 27.1  & 1.441 & 57    & 0    \\\\\n",
       "\t  1    & 189   & 60    & 23    & 846   & 30.1  & 0.398 & 59    & 1    \\\\\n",
       "\t  5    & 166   & 72    & 19    & 175   & 25.8  & 0.587 & 51    & 1    \\\\\n",
       "\t  7    & 100   &  0    &  0    &   0   & 30.0  & 0.484 & 32    & 1    \\\\\n",
       "\\end{tabular}\n"
      ],
      "text/markdown": [
       "\n",
       "| preg | plas | pres | skin | test | mass | pedi | age | class |\n",
       "|---|---|---|---|---|---|---|---|---|\n",
       "|  1    |  85   | 66    | 29    |   0   | 26.6  | 0.351 | 31    | 0     |\n",
       "|  8    | 183   | 64    |  0    |   0   | 23.3  | 0.672 | 32    | 1     |\n",
       "|  1    |  89   | 66    | 23    |  94   | 28.1  | 0.167 | 21    | 0     |\n",
       "|  0    | 137   | 40    | 35    | 168   | 43.1  | 2.288 | 33    | 1     |\n",
       "|  5    | 116   | 74    |  0    |   0   | 25.6  | 0.201 | 30    | 0     |\n",
       "|  3    |  78   | 50    | 32    |  88   | 31.0  | 0.248 | 26    | 1     |\n",
       "| 10    | 115   |  0    |  0    |   0   | 35.3  | 0.134 | 29    | 0     |\n",
       "|  2    | 197   | 70    | 45    | 543   | 30.5  | 0.158 | 53    | 1     |\n",
       "|  8    | 125   | 96    |  0    |   0   |  0.0  | 0.232 | 54    | 1     |\n",
       "|  4    | 110   | 92    |  0    |   0   | 37.6  | 0.191 | 30    | 0     |\n",
       "| 10    | 168   | 74    |  0    |   0   | 38.0  | 0.537 | 34    | 1     |\n",
       "| 10    | 139   | 80    |  0    |   0   | 27.1  | 1.441 | 57    | 0     |\n",
       "|  1    | 189   | 60    | 23    | 846   | 30.1  | 0.398 | 59    | 1     |\n",
       "|  5    | 166   | 72    | 19    | 175   | 25.8  | 0.587 | 51    | 1     |\n",
       "|  7    | 100   |  0    |  0    |   0   | 30.0  | 0.484 | 32    | 1     |\n",
       "\n"
      ],
      "text/plain": [
       "   preg plas pres skin test mass pedi  age class\n",
       "1   1    85  66   29     0  26.6 0.351 31  0    \n",
       "2   8   183  64    0     0  23.3 0.672 32  1    \n",
       "3   1    89  66   23    94  28.1 0.167 21  0    \n",
       "4   0   137  40   35   168  43.1 2.288 33  1    \n",
       "5   5   116  74    0     0  25.6 0.201 30  0    \n",
       "6   3    78  50   32    88  31.0 0.248 26  1    \n",
       "7  10   115   0    0     0  35.3 0.134 29  0    \n",
       "8   2   197  70   45   543  30.5 0.158 53  1    \n",
       "9   8   125  96    0     0   0.0 0.232 54  1    \n",
       "10  4   110  92    0     0  37.6 0.191 30  0    \n",
       "11 10   168  74    0     0  38.0 0.537 34  1    \n",
       "12 10   139  80    0     0  27.1 1.441 57  0    \n",
       "13  1   189  60   23   846  30.1 0.398 59  1    \n",
       "14  5   166  72   19   175  25.8 0.587 51  1    \n",
       "15  7   100   0    0     0  30.0 0.484 32  1    "
      ]
     },
     "metadata": {},
     "output_type": "display_data"
    }
   ],
   "source": [
    "pima <- read.csv(\"C:/Users/User/Documents/GitHub/Statistics/pima-indians-diabetes.csv\")\n",
    "\n",
    "dimnames(pima)[[2]] <- c(\"preg\", \"plas\", \"pres\", \"skin\", \"test\", \"mass\", \"pedi\", \"age\", \"class\")\n",
    "\n",
    "head(pima, 15)"
   ]
  },
  {
   "cell_type": "markdown",
   "metadata": {},
   "source": [
    "(b) Is there evidence that body mass index differs for women who have had a pregnancy versus those that haven’t? In what direction is any difference? "
   ]
  },
  {
   "cell_type": "markdown",
   "metadata": {},
   "source": [
    "Use a t test to see if there is difference in the means between the two groups. \n",
    "\n",
    "$H_0, mu=0$:no difference in mean BMI for the two groups.\n",
    "\n",
    "$H_1, mu!=0$: there is a difference in mean between the two groups. \n",
    "\n",
    "Is there a direction for the difference? which tail? "
   ]
  },
  {
   "cell_type": "code",
   "execution_count": 25,
   "metadata": {},
   "outputs": [
    {
     "data": {
      "text/html": [
       "31.6013719512195"
      ],
      "text/latex": [
       "31.6013719512195"
      ],
      "text/markdown": [
       "31.6013719512195"
      ],
      "text/plain": [
       "[1] 31.60137"
      ]
     },
     "metadata": {},
     "output_type": "display_data"
    },
    {
     "data": {
      "text/html": [
       "34.2900900900901"
      ],
      "text/latex": [
       "34.2900900900901"
      ],
      "text/markdown": [
       "34.2900900900901"
      ],
      "text/plain": [
       "[1] 34.29009"
      ]
     },
     "metadata": {},
     "output_type": "display_data"
    },
    {
     "data": {
      "text/plain": [
       "\n",
       "\tWelch Two Sample t-test\n",
       "\n",
       "data:  BMI_pregnant and BMI_no_preg\n",
       "t = -2.6296, df = 129.36, p-value = 0.009585\n",
       "alternative hypothesis: true difference in means is not equal to 0\n",
       "95 percent confidence interval:\n",
       " -4.711682 -0.665754\n",
       "sample estimates:\n",
       "mean of x mean of y \n",
       " 31.60137  34.29009 \n"
      ]
     },
     "metadata": {},
     "output_type": "display_data"
    }
   ],
   "source": [
    "# calculate the mean BMI for women who have been pregnant and those who have not been pregnant. \n",
    "# pregnant women\n",
    "pregnant_df <- pima[pima['preg'] > 0, ]\n",
    "BMI_pregnant <- pregnant_df$mass\n",
    "mean(BMI_pregnant)\n",
    "\n",
    "# non-pregnant\n",
    "non_pregdf <- pima[pima['preg'] == 0,]\n",
    "BMI_no_preg <- non_pregdf$mass\n",
    "mean(BMI_no_preg)\n",
    "\n",
    "#t.test\n",
    "t.test(BMI_pregnant, BMI_no_preg, var.equal = FALSE)"
   ]
  },
  {
   "cell_type": "markdown",
   "metadata": {},
   "source": [
    "The t.test above shows a statistical significant difference between the means of pregnant pima women versus those who have not been pregnant where $p = 0.0099$ and a t value of $t = -2.6296$. There is a negative difference in that the mean of pregnant women have a lower BMI those who have not been pregnant. The t-value is in the direction of the left tail."
   ]
  },
  {
   "cell_type": "markdown",
   "metadata": {},
   "source": [
    "(c) Make an appropriate plot of the data."
   ]
  },
  {
   "cell_type": "code",
   "execution_count": 26,
   "metadata": {},
   "outputs": [
    {
     "data": {
      "image/png": "[encoded data removed]",
      "text/plain": [
       "Plot with title \"BMI's between groups\""
      ]
     },
     "metadata": {},
     "output_type": "display_data"
    }
   ],
   "source": [
    "# Use a box and whisker plot to display the data. \n",
    "options(repr.plot.width = 8, repr.plot.height = 5)\n",
    "par(mar=c(5,9,4,1)+.1)\n",
    "boxplot(BMI_pregnant, BMI_no_preg, main = \"BMI's between groups\", at = c(1,2), names = c(\"been pregnant\", \"never pregnant\"), \n",
    "        col = c(\"lightblue\", \"lightgreen\"), horizontal = TRUE, las =2, xlab = \"BMI\")"
   ]
  },
  {
   "cell_type": "markdown",
   "metadata": {},
   "source": [
    "Diastolic blood pressure is thought to vary by age. \n",
    "\n",
    "(d) Make an appropriate plot of the data. "
   ]
  },
  {
   "cell_type": "code",
   "execution_count": 27,
   "metadata": {},
   "outputs": [
    {
     "data": {
      "image/png": "[encoded data removed]",
      "text/plain": [
       "Plot with title \"Diastolic blood pressure vs age\""
      ]
     },
     "metadata": {},
     "output_type": "display_data"
    }
   ],
   "source": [
    "rbPal <- colorRampPalette(c('orange','red'))\n",
    "pima$Col <- rbPal(20)[as.numeric(cut(pima$pres,breaks = 20))]\n",
    "\n",
    "plot(pima$pres~pima$age, type = 'p', main = \"Diastolic blood pressure vs age\", xlab = \"Age (Years)\", \n",
    "     ylab = \"Diastolic blood pressure (mm Hg)\", col = pima$Col, pch = 16)"
   ]
  },
  {
   "cell_type": "markdown",
   "metadata": {},
   "source": [
    "(e) Compute a 95% confidence interval for the Pearson correlation of age and diastolic blood pressure in female Pima people."
   ]
  },
  {
   "cell_type": "code",
   "execution_count": 28,
   "metadata": {},
   "outputs": [
    {
     "name": "stdout",
     "output_type": "stream",
     "text": [
      "The Pearson correlation coefficient is: 0.239571 \n",
      "The 95% confidence interval for the Preason correlation of age and blood pressure is : 0.1716924 0.3051857"
     ]
    }
   ],
   "source": [
    "pearson_blood.age <- cor.test(pima$age, pima$pres, conf.level = 0.95)\n",
    "cat(\"The Pearson correlation coefficient is:\", pearson_blood.age$estimate, \"\\n\")\n",
    "cat(\"The 95% confidence interval for the Preason correlation of age and blood pressure is :\", pearson_blood.age$conf.int)"
   ]
  },
  {
   "cell_type": "markdown",
   "metadata": {},
   "source": [
    "(f) Fit the simple linear regression of diastolic and age. Interpret the slope of the regression. Compute a 95% confidence interval for the mean diastolic blood pressure of a 40 year old female of the Pima people."
   ]
  },
  {
   "cell_type": "code",
   "execution_count": 29,
   "metadata": {},
   "outputs": [
    {
     "data": {
      "text/html": [
       "<strong>age:</strong> 0.394820604237371"
      ],
      "text/latex": [
       "\\textbf{age:} 0.394820604237371"
      ],
      "text/markdown": [
       "**age:** 0.394820604237371"
      ],
      "text/plain": [
       "      age \n",
       "0.3948206 "
      ]
     },
     "metadata": {},
     "output_type": "display_data"
    },
    {
     "data": {
      "text/html": [
       "<table>\n",
       "<thead><tr><th></th><th scope=col>2.5 %</th><th scope=col>97.5 %</th></tr></thead>\n",
       "<tbody>\n",
       "\t<tr><th scope=row>(Intercept)</th><td>51.9848586</td><td>59.9874121</td></tr>\n",
       "\t<tr><th scope=row>age</th><td> 0.2812579</td><td> 0.5083833</td></tr>\n",
       "</tbody>\n",
       "</table>\n"
      ],
      "text/latex": [
       "\\begin{tabular}{r|ll}\n",
       "  & 2.5 \\% & 97.5 \\%\\\\\n",
       "\\hline\n",
       "\t(Intercept) & 51.9848586 & 59.9874121\\\\\n",
       "\tage &  0.2812579 &  0.5083833\\\\\n",
       "\\end{tabular}\n"
      ],
      "text/markdown": [
       "\n",
       "| <!--/--> | 2.5 % | 97.5 % |\n",
       "|---|---|---|\n",
       "| (Intercept) | 51.9848586 | 59.9874121 |\n",
       "| age |  0.2812579 |  0.5083833 |\n",
       "\n"
      ],
      "text/plain": [
       "            2.5 %      97.5 %    \n",
       "(Intercept) 51.9848586 59.9874121\n",
       "age          0.2812579  0.5083833"
      ]
     },
     "metadata": {},
     "output_type": "display_data"
    },
    {
     "data": {
      "text/html": [
       "<strong>1:</strong> 71.778959534079"
      ],
      "text/latex": [
       "\\textbf{1:} 71.778959534079"
      ],
      "text/markdown": [
       "**1:** 71.778959534079"
      ],
      "text/plain": [
       "       1 \n",
       "71.77896 "
      ]
     },
     "metadata": {},
     "output_type": "display_data"
    },
    {
     "data": {
      "text/html": [
       "<table>\n",
       "<thead><tr><th scope=col>fit</th><th scope=col>lwr</th><th scope=col>upr</th></tr></thead>\n",
       "<tbody>\n",
       "\t<tr><td>71.77896</td><td>70.23886</td><td>73.31905</td></tr>\n",
       "</tbody>\n",
       "</table>\n"
      ],
      "text/latex": [
       "\\begin{tabular}{r|lll}\n",
       " fit & lwr & upr\\\\\n",
       "\\hline\n",
       "\t 71.77896 & 70.23886 & 73.31905\\\\\n",
       "\\end{tabular}\n"
      ],
      "text/markdown": [
       "\n",
       "| fit | lwr | upr |\n",
       "|---|---|---|\n",
       "| 71.77896 | 70.23886 | 73.31905 |\n",
       "\n"
      ],
      "text/plain": [
       "  fit      lwr      upr     \n",
       "1 71.77896 70.23886 73.31905"
      ]
     },
     "metadata": {},
     "output_type": "display_data"
    },
    {
     "data": {
      "image/png": "[encoded data removed]",
      "text/plain": [
       "Plot with title \"Diastolic blood pressure vs age\""
      ]
     },
     "metadata": {},
     "output_type": "display_data"
    }
   ],
   "source": [
    "blood_fit <- lm(pres~age, data = pima)\n",
    "pima$Col <- rbPal(20)[as.numeric(cut(pima$pres,breaks = 20))]\n",
    "plot(pima$pres~pima$age, type = 'p', main = \"Diastolic blood pressure vs age\", xlab = \"Age (Years)\", \n",
    "     ylab = \"Diastolic blood pressure (mm Hg)\", col = pima$Col, pch = 16, lwd = 4)\n",
    "abline(blood_fit, col = 'darkgreen')\n",
    "\n",
    "blood_fit[[1]][2] # the slope of the equation.\n",
    "\n",
    "#95% confidence interval for the mean diastolic blood pressure of a 40 yr old female of the Pima people.\n",
    "confint(blood_fit)\n",
    "# predicted mean of diastolic blood pressure when pima female is 40 years old.\n",
    "predict(blood_fit, newdata=data.frame(age=c(40)))\n",
    "# 95 % confidence interval for predicted mean\n",
    "predict(blood_fit, newdata =data.frame(age=c(40)), interval =\"conf\")"
   ]
  },
  {
   "cell_type": "markdown",
   "metadata": {},
   "source": [
    "### Interpretation\n",
    "\n",
    "The slope of the regression $b = 0.395$ can be interpreted as saying for every 1 unit increase in age (1 unit being 1 year in this case), there is a 0.39 unit increase in diastolic blood pressure. \n",
    "\n",
    "The predicted mean diastolic blood pressure for a pima indian woman at age 40 is $71.78 mm Hg$. This is within a 95% confidence interval of $70.24 mm Hg$ to $73.32 mm Hg$. "
   ]
  },
  {
   "cell_type": "markdown",
   "metadata": {},
   "source": [
    "#### Question 3\n",
    "\n",
    "(a) Each row of the file is an observation relating to one person from Australia. The file contains the variables:\n",
    "\n",
    "* City: The city in which the person lives.\n",
    "* Movie: A movie that the person most recently watched.\n",
    "* Age: The age of the person.\n",
    "* Rating: The rating (out of 10) that the person gave the movie."
   ]
  },
  {
   "cell_type": "markdown",
   "metadata": {},
   "source": [
    "# Load project dataset."
   ]
  },
  {
   "cell_type": "code",
   "execution_count": 31,
   "metadata": {},
   "outputs": [
    {
     "data": {
      "text/html": [
       "<table>\n",
       "<thead><tr><th scope=col>City</th><th scope=col>Movie</th><th scope=col>Age</th><th scope=col>Rating</th></tr></thead>\n",
       "<tbody>\n",
       "\t<tr><td>Sydney                </td><td>Undergoal             </td><td>24                    </td><td>8                     </td></tr>\n",
       "\t<tr><td>Melbourne             </td><td>The Cat with Two Tales</td><td>27                    </td><td>8                     </td></tr>\n",
       "\t<tr><td>Melbourne             </td><td>The Cat with Two Tales</td><td>15                    </td><td>8                     </td></tr>\n",
       "\t<tr><td>Melbourne             </td><td>The Cat with Two Tales</td><td>30                    </td><td>7                     </td></tr>\n",
       "\t<tr><td>Perth                 </td><td>Washing Dishes 3      </td><td>46                    </td><td>8                     </td></tr>\n",
       "\t<tr><td>Brisbane              </td><td>The Cat with Two Tales</td><td>14                    </td><td>8                     </td></tr>\n",
       "\t<tr><td>Sydney                </td><td>The Cat with Two Tales</td><td>33                    </td><td>9                     </td></tr>\n",
       "\t<tr><td>Sydney                </td><td>The Cat with Two Tales</td><td>23                    </td><td>7                     </td></tr>\n",
       "\t<tr><td>Brisbane              </td><td>Undergoal             </td><td>27                    </td><td>8                     </td></tr>\n",
       "\t<tr><td>Melbourne             </td><td>Undergoal             </td><td>36                    </td><td>9                     </td></tr>\n",
       "</tbody>\n",
       "</table>\n"
      ],
      "text/latex": [
       "\\begin{tabular}{r|llll}\n",
       " City & Movie & Age & Rating\\\\\n",
       "\\hline\n",
       "\t Sydney                 & Undergoal              & 24                     & 8                     \\\\\n",
       "\t Melbourne              & The Cat with Two Tales & 27                     & 8                     \\\\\n",
       "\t Melbourne              & The Cat with Two Tales & 15                     & 8                     \\\\\n",
       "\t Melbourne              & The Cat with Two Tales & 30                     & 7                     \\\\\n",
       "\t Perth                  & Washing Dishes 3       & 46                     & 8                     \\\\\n",
       "\t Brisbane               & The Cat with Two Tales & 14                     & 8                     \\\\\n",
       "\t Sydney                 & The Cat with Two Tales & 33                     & 9                     \\\\\n",
       "\t Sydney                 & The Cat with Two Tales & 23                     & 7                     \\\\\n",
       "\t Brisbane               & Undergoal              & 27                     & 8                     \\\\\n",
       "\t Melbourne              & Undergoal              & 36                     & 9                     \\\\\n",
       "\\end{tabular}\n"
      ],
      "text/markdown": [
       "\n",
       "| City | Movie | Age | Rating |\n",
       "|---|---|---|---|\n",
       "| Sydney                 | Undergoal              | 24                     | 8                      |\n",
       "| Melbourne              | The Cat with Two Tales | 27                     | 8                      |\n",
       "| Melbourne              | The Cat with Two Tales | 15                     | 8                      |\n",
       "| Melbourne              | The Cat with Two Tales | 30                     | 7                      |\n",
       "| Perth                  | Washing Dishes 3       | 46                     | 8                      |\n",
       "| Brisbane               | The Cat with Two Tales | 14                     | 8                      |\n",
       "| Sydney                 | The Cat with Two Tales | 33                     | 9                      |\n",
       "| Sydney                 | The Cat with Two Tales | 23                     | 7                      |\n",
       "| Brisbane               | Undergoal              | 27                     | 8                      |\n",
       "| Melbourne              | Undergoal              | 36                     | 9                      |\n",
       "\n"
      ],
      "text/plain": [
       "   City      Movie                  Age Rating\n",
       "1  Sydney    Undergoal              24  8     \n",
       "2  Melbourne The Cat with Two Tales 27  8     \n",
       "3  Melbourne The Cat with Two Tales 15  8     \n",
       "4  Melbourne The Cat with Two Tales 30  7     \n",
       "5  Perth     Washing Dishes 3       46  8     \n",
       "6  Brisbane  The Cat with Two Tales 14  8     \n",
       "7  Sydney    The Cat with Two Tales 33  9     \n",
       "8  Sydney    The Cat with Two Tales 23  7     \n",
       "9  Brisbane  Undergoal              27  8     \n",
       "10 Melbourne Undergoal              36  9     "
      ]
     },
     "metadata": {},
     "output_type": "display_data"
    },
    {
     "data": {
      "text/html": [
       "<ol class=list-inline>\n",
       "\t<li>1000</li>\n",
       "\t<li>4</li>\n",
       "</ol>\n"
      ],
      "text/latex": [
       "\\begin{enumerate*}\n",
       "\\item 1000\n",
       "\\item 4\n",
       "\\end{enumerate*}\n"
      ],
      "text/markdown": [
       "1. 1000\n",
       "2. 4\n",
       "\n",
       "\n"
      ],
      "text/plain": [
       "[1] 1000    4"
      ]
     },
     "metadata": {},
     "output_type": "display_data"
    }
   ],
   "source": [
    "project <- read.csv(\"C:/Users/User/Documents/GitHub/Statistics/project.csv\")\n",
    "head(project, 10)\n",
    "dim(project)"
   ]
  },
  {
   "cell_type": "markdown",
   "metadata": {},
   "source": [
    "##### Representative Sample\n",
    "Our sample is from the six Australian cities with population counts shown below.\n",
    "\n",
    "| City | Population | Proportion |\n",
    "| ------------- |:-------------:| -----:|\n",
    "| Sydney | 5,131,326 | 0.321 |\n",
    "| Melbourne | 4,850,740 | 0.304 |\n",
    "| Brisbane | 2,408,223 | 0.151 |\n",
    "| Adelaide | 1,313,927 | 0.082 |\n",
    "| Perth | 2,050,138 | 0.128 |\n",
    "| Hobart | 226,884 | 0.014 |\n",
    "\n",
    "\n",
    "(b) test if the distribution of cities in the data matches the above population proportions of the cities."
   ]
  },
  {
   "cell_type": "markdown",
   "metadata": {},
   "source": [
    "Goodness of fit test\n",
    "\n",
    "calculate the expected values for the population count data. "
   ]
  },
  {
   "cell_type": "code",
   "execution_count": 32,
   "metadata": {},
   "outputs": [
    {
     "data": {
      "text/plain": [
       "\n",
       "\tChi-squared test for given probabilities\n",
       "\n",
       "data:  obs_val\n",
       "X-squared = 7.679, df = 5, p-value = 0.1748\n"
      ]
     },
     "metadata": {},
     "output_type": "display_data"
    },
    {
     "name": "stdout",
     "output_type": "stream",
     "text": [
      "The p value using the chisq.test function is: 0.1748363 \n",
      "The p value from the simulation is: 0.1711"
     ]
    },
    {
     "data": {
      "image/png": "[encoded data removed]",
      "text/plain": [
       "Plot with title \"Chi-square distribution, df = 5\""
      ]
     },
     "metadata": {},
     "output_type": "display_data"
    }
   ],
   "source": [
    "# calculate the expected values for the population count data\n",
    "prop <- c(0.321, 0.304, 0.151, 0.082, 0.128, 0.014)\n",
    "cities  <- c(\"Sydney\", \"Melbourne\", \"Brisbane\", \"Adelaide\", \"Perth\", \"Hobart\")\n",
    "\n",
    "# expected values\n",
    "e <- (length(project$City)*prop)\n",
    "names(e) <- cities\n",
    "\n",
    "#observed values\n",
    "obs_val <- table(project$City)[c(\"Sydney\", \"Melbourne\", \"Brisbane\", \"Adelaide\", \"Perth\", \"Hobart\")]\n",
    "\n",
    "chi_fit <- sum((obs_val-e)^2/e)\n",
    "\n",
    "# CHI SQUARE FUNCTION VERSION\n",
    "\n",
    "chisq.test(obs_val, p = prop)\n",
    "cat(\"The p value using the chisq.test function is:\", chisq.test(obs_val, p=prop)$p.value, \"\\n\")\n",
    "\n",
    "# simulation of chi-square distribution where df = 5\n",
    "set.seed(1)\n",
    "x = replicate(10000, {\n",
    "    counts = rmultinom(1, 1000, prop)\n",
    "    chisq = sum((counts-e)^2/e)\n",
    "})\n",
    "\n",
    "cat(\"The p value from the simulation is:\", mean(x>chi_fit))\n",
    "\n",
    "hist(x, col = 'lightgreen', main = \"Chi-square distribution, df = 5\", xlab = \"Chi-Square value\", breaks = 20)\n",
    "abline(v = chi_fit, col = 'red')\n",
    "abline(v = quantile(x, c(0.95)), col = 'blue')\n"
   ]
  },
  {
   "cell_type": "markdown",
   "metadata": {},
   "source": [
    "Yes the sample data matches the above propotions of the population of the cities. The sample data has a p value of $p = 0.1711$ so it is not statistically significant, it is within the bounds of the expected values."
   ]
  },
  {
   "cell_type": "markdown",
   "metadata": {},
   "source": [
    "#### Chosen Movie\n",
    "\n",
    "It is believed that people from difference cities have different preferences. \n",
    "\n",
    "(c) Is there a dependence between the sample variables City and Chosen Movie?"
   ]
  },
  {
   "cell_type": "code",
   "execution_count": 33,
   "metadata": {
    "scrolled": false
   },
   "outputs": [
    {
     "data": {
      "text/plain": [
       "           Movie\n",
       "City        The Cat with Two Tales Undergoal Washing Dishes 3\n",
       "  Adelaide                      52        15               34\n",
       "  Brisbane                      80        23               45\n",
       "  Hobart                         9         5                4\n",
       "  Melbourne                    166        59               70\n",
       "  Perth                         55        27               31\n",
       "  Sydney                       187        55               83"
      ]
     },
     "metadata": {},
     "output_type": "display_data"
    },
    {
     "data": {
      "text/html": [
       "<table>\n",
       "<thead><tr><th></th><th scope=col>The Cat with Two Tales</th><th scope=col>Undergoal</th><th scope=col>Washing Dishes 3</th><th scope=col>total_row</th></tr></thead>\n",
       "<tbody>\n",
       "\t<tr><th scope=row>Adelaide</th><td> 52 </td><td> 15 </td><td> 34 </td><td> 101</td></tr>\n",
       "\t<tr><th scope=row>Brisbane</th><td> 80 </td><td> 23 </td><td> 45 </td><td> 148</td></tr>\n",
       "\t<tr><th scope=row>Hobart</th><td>  9 </td><td>  5 </td><td>  4 </td><td>  18</td></tr>\n",
       "\t<tr><th scope=row>Melbourne</th><td>166 </td><td> 59 </td><td> 70 </td><td> 295</td></tr>\n",
       "\t<tr><th scope=row>Perth</th><td> 55 </td><td> 27 </td><td> 31 </td><td> 113</td></tr>\n",
       "\t<tr><th scope=row>Sydney</th><td>187 </td><td> 55 </td><td> 83 </td><td> 325</td></tr>\n",
       "\t<tr><th scope=row>total_col</th><td>549 </td><td>184 </td><td>267 </td><td>1000</td></tr>\n",
       "</tbody>\n",
       "</table>\n"
      ],
      "text/latex": [
       "\\begin{tabular}{r|llll}\n",
       "  & The Cat with Two Tales & Undergoal & Washing Dishes 3 & total\\_row\\\\\n",
       "\\hline\n",
       "\tAdelaide &  52  &  15  &  34  &  101\\\\\n",
       "\tBrisbane &  80  &  23  &  45  &  148\\\\\n",
       "\tHobart &   9  &   5  &   4  &   18\\\\\n",
       "\tMelbourne & 166  &  59  &  70  &  295\\\\\n",
       "\tPerth &  55  &  27  &  31  &  113\\\\\n",
       "\tSydney & 187  &  55  &  83  &  325\\\\\n",
       "\ttotal\\_col & 549  & 184  & 267  & 1000\\\\\n",
       "\\end{tabular}\n"
      ],
      "text/markdown": [
       "\n",
       "| <!--/--> | The Cat with Two Tales | Undergoal | Washing Dishes 3 | total_row |\n",
       "|---|---|---|---|---|\n",
       "| Adelaide |  52  |  15  |  34  |  101 |\n",
       "| Brisbane |  80  |  23  |  45  |  148 |\n",
       "| Hobart |   9  |   5  |   4  |   18 |\n",
       "| Melbourne | 166  |  59  |  70  |  295 |\n",
       "| Perth |  55  |  27  |  31  |  113 |\n",
       "| Sydney | 187  |  55  |  83  |  325 |\n",
       "| total_col | 549  | 184  | 267  | 1000 |\n",
       "\n"
      ],
      "text/plain": [
       "          The Cat with Two Tales Undergoal Washing Dishes 3 total_row\n",
       "Adelaide   52                     15        34               101     \n",
       "Brisbane   80                     23        45               148     \n",
       "Hobart      9                      5         4                18     \n",
       "Melbourne 166                     59        70               295     \n",
       "Perth      55                     27        31               113     \n",
       "Sydney    187                     55        83               325     \n",
       "total_col 549                    184       267              1000     "
      ]
     },
     "metadata": {},
     "output_type": "display_data"
    },
    {
     "name": "stderr",
     "output_type": "stream",
     "text": [
      "Warning message in chisq.test(ctable[1:6, 1:3]):\n",
      "\"Chi-squared approximation may be incorrect\""
     ]
    },
    {
     "data": {
      "text/plain": [
       "\n",
       "\tPearson's Chi-squared test\n",
       "\n",
       "data:  ctable[1:6, 1:3]\n",
       "X-squared = 10.375, df = 10, p-value = 0.4082\n"
      ]
     },
     "metadata": {},
     "output_type": "display_data"
    }
   ],
   "source": [
    "# create a contingency table\n",
    "ctable <- table(project[c(\"City\", \"Movie\")])\n",
    "ctable\n",
    "total_row <- as.vector(apply(ctable, 1, sum))\n",
    "ctable <- cbind(ctable, total_row)\n",
    "total_col <- as.vector(apply(ctable, 2, sum))\n",
    "ctable <- rbind(ctable, total_col)\n",
    "ctable\n",
    "\n",
    "chisq.test(ctable[1:6, 1:3])"
   ]
  },
  {
   "cell_type": "markdown",
   "metadata": {},
   "source": [
    "There is currently no reason to accept the alternative hypothesis that movie preference and the city a person resides in is dependent. The p value of the chi-squared test for independence is $p = 0.4082$, which is greater than the 0.05 significance level. Thus we do not reject the null hypothesis that movie preference and the city a person resides in is independent. "
   ]
  },
  {
   "cell_type": "markdown",
   "metadata": {},
   "source": [
    "#### Harsh Raters\n",
    "\n",
    "As people grow older, it is believed that they expect more from movies and so provide lower ratings. \n",
    "\n",
    "(d) To answer this question, test if there is a difference in the mean rating for people over and including 40 years old, compared to the mean rating from people under 40 years old."
   ]
  },
  {
   "cell_type": "code",
   "execution_count": 34,
   "metadata": {},
   "outputs": [
    {
     "data": {
      "text/html": [
       "7.05670103092783"
      ],
      "text/latex": [
       "7.05670103092783"
      ],
      "text/markdown": [
       "7.05670103092783"
      ],
      "text/plain": [
       "[1] 7.056701"
      ]
     },
     "metadata": {},
     "output_type": "display_data"
    },
    {
     "data": {
      "text/html": [
       "7.40198511166253"
      ],
      "text/latex": [
       "7.40198511166253"
      ],
      "text/markdown": [
       "7.40198511166253"
      ],
      "text/plain": [
       "[1] 7.401985"
      ]
     },
     "metadata": {},
     "output_type": "display_data"
    },
    {
     "data": {
      "text/plain": [
       "\n",
       "\tWelch Two Sample t-test\n",
       "\n",
       "data:  forty.and.over and under.forty\n",
       "t = -5.7077, df = 293.34, p-value = 1.401e-08\n",
       "alternative hypothesis: true difference in means is less than 0\n",
       "95 percent confidence interval:\n",
       "      -Inf -0.245464\n",
       "sample estimates:\n",
       "mean of x mean of y \n",
       " 7.056701  7.401985 \n"
      ]
     },
     "metadata": {},
     "output_type": "display_data"
    }
   ],
   "source": [
    "forty.and.over <- project[c(project[\"Age\"] >= 40), \"Rating\" ]\n",
    "under.forty <- project[c(project[\"Age\"] < 40), \"Rating\" ]\n",
    "mean_40plus <- mean(forty.and.over)\n",
    "mean_under40 <- mean(under.forty)\n",
    "\n",
    "# Means of ratings.\n",
    "mean_40plus\n",
    "mean_under40\n",
    "\n",
    "t.test(forty.and.over, under.forty, alternative = \"less\")"
   ]
  },
  {
   "cell_type": "markdown",
   "metadata": {},
   "source": [
    "The Null hypothesis $H_{0}$ for this test is that difference in the mean ratings for movies between those who are forty and over, versus those who are under 40 is zero (0) - there is no statistically significant difference in the means. \n",
    "\n",
    "The alternative hypothesis $H_{a}$ however, is that older people (those forty and over) expect more from movies, thus the overall mean ratings for forty and over's should be less than that of those under forty. Therefore the alternative hypothesis is that $\\mu_{older} < \\mu_{younger}$ thus the true difference in means should be less than 0 ($\\mu_{older}-\\mu_{younger} < 0$).\n",
    "\n",
    "As the t-test shows, there is a statistially significant difference with the t-value, giving a p-value of $ p=1.041x10^{-8}$. Therefore we should reject the null hypothesis and accept the alternative, that the true difference is means is less than zero, which is the hypothesis that older people tend to rate movies lower than younger people since they expect more."
   ]
  },
  {
   "cell_type": "markdown",
   "metadata": {},
   "source": [
    "#### Best Movie\n",
    "\n",
    "(e) Is there evidence that the movies are not equally preferred? Test if all mean ratings are equal for each movie? If there is not equal preference, which is preferred over which?"
   ]
  },
  {
   "cell_type": "code",
   "execution_count": 35,
   "metadata": {},
   "outputs": [
    {
     "data": {
      "text/html": [
       "<strong>F:</strong> 19.6766564295284"
      ],
      "text/latex": [
       "\\textbf{F:} 19.6766564295284"
      ],
      "text/markdown": [
       "**F:** 19.6766564295284"
      ],
      "text/plain": [
       "       F \n",
       "19.67666 "
      ]
     },
     "metadata": {},
     "output_type": "display_data"
    },
    {
     "data": {
      "text/plain": [
       "\n",
       "\tOne-way analysis of means\n",
       "\n",
       "data:  Rating and Movie\n",
       "F = 19.677, num df = 2, denom df = 997, p-value = 4.158e-09\n"
      ]
     },
     "metadata": {},
     "output_type": "display_data"
    },
    {
     "name": "stdout",
     "output_type": "stream",
     "text": [
      "The P-value given by the simulation is: 0"
     ]
    },
    {
     "data": {
      "text/plain": [
       "             Df Sum Sq Mean Sq F value   Pr(>F)    \n",
       "Movie         2   22.4   11.22   19.68 4.16e-09 ***\n",
       "Residuals   997  568.3    0.57                     \n",
       "---\n",
       "Signif. codes:  0 '***' 0.001 '**' 0.01 '*' 0.05 '.' 0.1 ' ' 1"
      ]
     },
     "metadata": {},
     "output_type": "display_data"
    },
    {
     "data": {
      "text/html": [
       "<dl class=dl-horizontal>\n",
       "\t<dt>Undergoal-The Cat with Two Tales</dt>\n",
       "\t\t<dd>0.0156860958000945</dd>\n",
       "\t<dt>Washing Dishes 3-The Cat with Two Tales</dt>\n",
       "\t\t<dd>2.69588129597764e-09</dd>\n",
       "\t<dt>Washing Dishes 3-Undergoal</dt>\n",
       "\t\t<dd>0.0492200085771839</dd>\n",
       "</dl>\n"
      ],
      "text/latex": [
       "\\begin{description*}\n",
       "\\item[Undergoal-The Cat with Two Tales] 0.0156860958000945\n",
       "\\item[Washing Dishes 3-The Cat with Two Tales] 2.69588129597764e-09\n",
       "\\item[Washing Dishes 3-Undergoal] 0.0492200085771839\n",
       "\\end{description*}\n"
      ],
      "text/markdown": [
       "Undergoal-The Cat with Two Tales\n",
       ":   0.0156860958000945Washing Dishes 3-The Cat with Two Tales\n",
       ":   2.69588129597764e-09Washing Dishes 3-Undergoal\n",
       ":   0.0492200085771839\n",
       "\n"
      ],
      "text/plain": [
       "       Undergoal-The Cat with Two Tales Washing Dishes 3-The Cat with Two Tales \n",
       "                           1.568610e-02                            2.695881e-09 \n",
       "             Washing Dishes 3-Undergoal \n",
       "                           4.922001e-02 "
      ]
     },
     "metadata": {},
     "output_type": "display_data"
    }
   ],
   "source": [
    "# F test and ANOVA\n",
    "\n",
    "Fstat <- oneway.test(Rating~Movie, data = project, var.equal = TRUE)\n",
    "Fstat$statistic\n",
    "Fstat\n",
    "\n",
    "#simulation \n",
    "\n",
    "x <- replicate(1000, {\n",
    "    movie.perm <- sample(project$Movie)\n",
    "    oneway.test(Rating~movie.perm, data = project, var.equal = TRUE)$statistic\n",
    "    })\n",
    "\n",
    "cat(\"The P-value given by the simulation is:\",mean(x > Fstat$statistic))\n",
    "\n",
    "# Use Tukey test to determine which of the movies is preferred by looking at the means.\n",
    "\n",
    "fit <- aov(Rating~Movie, data = project)\n",
    "summary(fit)\n",
    "tt <- TukeyHSD(fit)\n",
    "tt$Movie[, \"p adj\"]"
   ]
  },
  {
   "cell_type": "code",
   "execution_count": 36,
   "metadata": {},
   "outputs": [
    {
     "data": {
      "image/jpeg": "[encoded data removed]",
      "image/png": "",
      "image/svg+xml": [
       "<?xml version=\"1.0\" encoding=\"UTF-8\"?>\n",
       "<svg xmlns=\"http://www.w3.org/2000/svg\" xmlns:xlink=\"http://www.w3.org/1999/xlink\" width=\"576pt\" height=\"360pt\" viewBox=\"0 0 576 360\" version=\"1.1\">\n",
       "<defs>\n",
       "<g>\n",
       "<symbol overflow=\"visible\" id=\"glyph0-0\">\n",
       "<path style=\"stroke:none;\" d=\"\"/>\n",
       "</symbol>\n",
       "<symbol overflow=\"visible\" id=\"glyph0-1\">\n",
       "<path style=\"stroke:none;\" d=\"M 3.34375 -2.84375 L 3.34375 -3.8125 L 0.375 -3.8125 L 0.375 -2.71875 L 3.34375 -2.71875 Z M 3.34375 -2.84375 \"/>\n",
       "</symbol>\n",
       "<symbol overflow=\"visible\" id=\"glyph0-2\">\n",
       "<path style=\"stroke:none;\" d=\"M 5.859375 -3.984375 C 5.859375 -6.765625 4.84375 -8.296875 3.109375 -8.296875 C 1.375 -8.296875 0.34375 -6.75 0.34375 -4.0625 C 0.34375 -1.359375 1.390625 0.171875 3.109375 0.171875 C 4.796875 0.171875 5.859375 -1.359375 5.859375 -3.984375 Z M 4.5625 -4.078125 C 4.5625 -1.8125 4.1875 -0.9375 3.078125 -0.9375 C 2.03125 -0.9375 1.640625 -1.859375 1.640625 -4.046875 C 1.640625 -6.234375 2.03125 -7.125 3.109375 -7.125 C 4.1875 -7.125 4.5625 -6.21875 4.5625 -4.078125 Z M 4.5625 -4.078125 \"/>\n",
       "</symbol>\n",
       "<symbol overflow=\"visible\" id=\"glyph0-3\">\n",
       "<path style=\"stroke:none;\" d=\"M 2.296875 -0.140625 L 2.296875 -1.453125 L 0.84375 -1.453125 L 0.84375 0 L 2.296875 0 Z M 2.296875 -0.140625 \"/>\n",
       "</symbol>\n",
       "<symbol overflow=\"visible\" id=\"glyph0-4\">\n",
       "<path style=\"stroke:none;\" d=\"M 6.015625 -2.0625 L 6.015625 -3.09375 L 4.828125 -3.09375 L 4.828125 -8.296875 L 3.875 -8.296875 L 0.171875 -3.15625 L 0.171875 -1.921875 L 3.546875 -1.921875 L 3.546875 0 L 4.828125 0 L 4.828125 -1.921875 L 6.015625 -1.921875 Z M 3.6875 -3.09375 L 1.453125 -3.09375 L 3.78125 -6.34375 L 3.546875 -6.453125 L 3.546875 -3.09375 Z M 3.6875 -3.09375 \"/>\n",
       "</symbol>\n",
       "<symbol overflow=\"visible\" id=\"glyph0-5\">\n",
       "<path style=\"stroke:none;\" d=\"M 5.859375 -2.46875 C 5.859375 -3.4375 5.328125 -4.140625 4.359375 -4.46875 L 4.359375 -4.1875 C 5.109375 -4.484375 5.609375 -5.140625 5.609375 -5.9375 C 5.609375 -7.328125 4.5625 -8.296875 3.03125 -8.296875 C 1.421875 -8.296875 0.421875 -7.265625 0.390625 -5.421875 L 1.65625 -5.421875 C 1.6875 -6.75 2.03125 -7.140625 3.046875 -7.140625 C 3.9375 -7.140625 4.3125 -6.75 4.3125 -5.90625 C 4.3125 -5.046875 4.09375 -4.84375 2.34375 -4.84375 L 2.34375 -3.734375 L 3.03125 -3.734375 C 4.140625 -3.734375 4.546875 -3.34375 4.546875 -2.453125 C 4.546875 -1.453125 4.078125 -1 3.03125 -1 C 1.953125 -1 1.5625 -1.390625 1.484375 -2.703125 L 0.203125 -2.703125 C 0.34375 -0.765625 1.359375 0.171875 3 0.171875 C 4.65625 0.171875 5.859375 -0.953125 5.859375 -2.46875 Z M 5.859375 -2.46875 \"/>\n",
       "</symbol>\n",
       "<symbol overflow=\"visible\" id=\"glyph0-6\">\n",
       "<path style=\"stroke:none;\" d=\"M 5.90625 -5.796875 C 5.90625 -7.15625 4.71875 -8.296875 3.203125 -8.296875 C 1.5625 -8.296875 0.46875 -7.3125 0.421875 -5.234375 L 1.6875 -5.234375 C 1.78125 -6.703125 2.1875 -7.140625 3.171875 -7.140625 C 4.078125 -7.140625 4.609375 -6.625 4.609375 -5.765625 C 4.609375 -5.140625 4.28125 -4.703125 3.5625 -4.296875 L 2.53125 -3.703125 C 0.859375 -2.75 0.328125 -1.890625 0.21875 0 L 5.859375 0 L 5.859375 -1.265625 L 1.65625 -1.265625 C 1.734375 -1.78125 2.0625 -2.09375 3.03125 -2.671875 L 4.171875 -3.28125 C 5.28125 -3.875 5.90625 -4.8125 5.90625 -5.796875 Z M 5.90625 -5.796875 \"/>\n",
       "</symbol>\n",
       "<symbol overflow=\"visible\" id=\"glyph0-7\">\n",
       "<path style=\"stroke:none;\" d=\"M 4.0625 -0.140625 L 4.0625 -8.296875 L 3.15625 -8.296875 C 2.765625 -6.90625 2.6875 -6.890625 1 -6.671875 L 1 -5.703125 L 2.78125 -5.703125 L 2.78125 0 L 4.0625 0 Z M 4.0625 -0.140625 \"/>\n",
       "</symbol>\n",
       "<symbol overflow=\"visible\" id=\"glyph0-8\">\n",
       "<path style=\"stroke:none;\" d=\"M 10.5 -8.515625 L 9.203125 -8.515625 L 7.65625 -1.6875 L 7.9375 -1.6875 L 6.015625 -8.515625 L 4.6875 -8.515625 L 2.828125 -1.6875 L 3.109375 -1.6875 L 1.53125 -8.515625 L 0.0625 -8.515625 L 2.25 0 L 3.609375 0 L 5.484375 -6.90625 L 5.203125 -6.90625 L 7.15625 0 L 8.5 0 L 10.671875 -8.515625 Z M 10.5 -8.515625 \"/>\n",
       "</symbol>\n",
       "<symbol overflow=\"visible\" id=\"glyph0-9\">\n",
       "<path style=\"stroke:none;\" d=\"M 6.171875 -0.15625 L 6.171875 -1.046875 C 5.9375 -1 5.890625 -1 5.84375 -1 C 5.515625 -1 5.46875 -1.015625 5.46875 -1.3125 L 5.46875 -4.609375 C 5.46875 -5.65625 4.5625 -6.375 3.109375 -6.375 C 1.671875 -6.375 0.640625 -5.671875 0.578125 -4.171875 L 1.8125 -4.171875 C 1.890625 -5.03125 2.1875 -5.21875 3.078125 -5.21875 C 3.921875 -5.21875 4.25 -5.03125 4.25 -4.46875 L 4.25 -4.21875 C 4.25 -3.828125 4.15625 -3.8125 3.40625 -3.71875 C 2.078125 -3.546875 1.875 -3.5 1.515625 -3.359375 C 0.828125 -3.078125 0.328125 -2.390625 0.328125 -1.671875 C 0.328125 -0.59375 1.21875 0.171875 2.421875 0.171875 C 3.171875 0.171875 4 -0.1875 4.34375 -0.546875 C 4.390625 -0.390625 4.9375 0.078125 5.40625 0.078125 C 5.59375 0.078125 5.734375 0.0625 6.171875 -0.0625 Z M 4.25 -2.1875 C 4.25 -1.328125 3.53125 -0.9375 2.625 -0.9375 C 1.890625 -0.9375 1.59375 -1.046875 1.59375 -1.6875 C 1.59375 -2.3125 1.875 -2.453125 2.875 -2.59375 C 3.875 -2.734375 4.078125 -2.78125 4.25 -2.859375 Z M 4.25 -2.1875 \"/>\n",
       "</symbol>\n",
       "<symbol overflow=\"visible\" id=\"glyph0-10\">\n",
       "<path style=\"stroke:none;\" d=\"M 5.328125 -1.796875 C 5.328125 -2.671875 4.6875 -3.265625 3.515625 -3.546875 L 2.609375 -3.765625 C 1.84375 -3.9375 1.65625 -4.046875 1.65625 -4.46875 C 1.65625 -5 2 -5.21875 2.765625 -5.21875 C 3.53125 -5.21875 3.78125 -5.03125 3.8125 -4.265625 L 5.078125 -4.265625 C 5.078125 -5.5625 4.171875 -6.375 2.796875 -6.375 C 1.421875 -6.375 0.390625 -5.515625 0.390625 -4.421875 C 0.390625 -3.484375 1 -2.921875 2.40625 -2.578125 L 3.28125 -2.359375 C 3.9375 -2.203125 4.0625 -2.140625 4.0625 -1.71875 C 4.0625 -1.15625 3.65625 -0.984375 2.828125 -0.984375 C 1.984375 -0.984375 1.640625 -1.046875 1.484375 -2.09375 L 0.234375 -2.09375 C 0.28125 -0.578125 1.203125 0.171875 2.75 0.171875 C 4.234375 0.171875 5.328125 -0.65625 5.328125 -1.796875 Z M 5.328125 -1.796875 \"/>\n",
       "</symbol>\n",
       "<symbol overflow=\"visible\" id=\"glyph0-11\">\n",
       "<path style=\"stroke:none;\" d=\"M 5.625 -0.140625 L 5.625 -4.609375 C 5.625 -5.609375 4.78125 -6.375 3.625 -6.375 C 2.796875 -6.375 2.1875 -6.0625 1.625 -5.34375 L 1.859375 -5.234375 L 1.859375 -8.515625 L 0.640625 -8.515625 L 0.640625 0 L 1.859375 0 L 1.859375 -3.40625 C 1.859375 -4.609375 2.359375 -5.265625 3.328125 -5.265625 C 4 -5.265625 4.40625 -5.015625 4.40625 -4.234375 L 4.40625 0 L 5.625 0 Z M 5.625 -0.140625 \"/>\n",
       "</symbol>\n",
       "<symbol overflow=\"visible\" id=\"glyph0-12\">\n",
       "<path style=\"stroke:none;\" d=\"M 1.859375 -0.140625 L 1.859375 -6.203125 L 0.640625 -6.203125 L 0.640625 0 L 1.859375 0 Z M 1.984375 -6.953125 L 1.984375 -8.265625 L 0.53125 -8.265625 L 0.53125 -6.8125 L 1.984375 -6.8125 Z M 1.984375 -6.953125 \"/>\n",
       "</symbol>\n",
       "<symbol overflow=\"visible\" id=\"glyph0-13\">\n",
       "<path style=\"stroke:none;\" d=\"M 5.640625 -0.140625 L 5.640625 -4.609375 C 5.640625 -5.59375 4.765625 -6.375 3.625 -6.375 C 2.75 -6.375 2.078125 -5.984375 1.5625 -5.15625 L 1.796875 -5.0625 L 1.796875 -6.203125 L 0.640625 -6.203125 L 0.640625 0 L 1.859375 0 L 1.859375 -3.40625 C 1.859375 -4.609375 2.390625 -5.265625 3.34375 -5.265625 C 4.09375 -5.265625 4.421875 -4.953125 4.421875 -4.234375 L 4.421875 0 L 5.640625 0 Z M 5.640625 -0.140625 \"/>\n",
       "</symbol>\n",
       "<symbol overflow=\"visible\" id=\"glyph0-14\">\n",
       "<path style=\"stroke:none;\" d=\"M 5.65625 -1.109375 L 5.65625 -6.203125 L 4.5 -6.203125 L 4.5 -5.203125 L 4.75 -5.296875 C 4.265625 -6 3.609375 -6.375 2.84375 -6.375 C 1.34375 -6.375 0.1875 -4.953125 0.1875 -3.03125 C 0.1875 -1.171875 1.375 0.171875 2.765625 0.171875 C 3.515625 0.171875 4.125 -0.1875 4.75 -0.921875 L 4.5 -1.03125 L 4.5 -0.625 C 4.5 0.9375 4.015625 1.390625 2.921875 1.390625 C 2.171875 1.390625 1.734375 1.265625 1.59375 0.390625 L 0.359375 0.390625 C 0.46875 1.65625 1.484375 2.46875 2.875 2.46875 C 4.734375 2.46875 5.65625 1.5 5.65625 -1.109375 Z M 4.421875 -3.0625 C 4.421875 -1.65625 3.953125 -0.984375 2.953125 -0.984375 C 1.9375 -0.984375 1.453125 -1.65625 1.453125 -3.09375 C 1.453125 -4.515625 1.9375 -5.21875 2.953125 -5.21875 C 3.96875 -5.21875 4.421875 -4.5 4.421875 -3.0625 Z M 4.421875 -3.0625 \"/>\n",
       "</symbol>\n",
       "<symbol overflow=\"visible\" id=\"glyph0-15\">\n",
       "<path style=\"stroke:none;\" d=\"\"/>\n",
       "</symbol>\n",
       "<symbol overflow=\"visible\" id=\"glyph0-16\">\n",
       "<path style=\"stroke:none;\" d=\"M 7.671875 -4.265625 C 7.671875 -6.8125 6.265625 -8.515625 4.1875 -8.515625 L 0.859375 -8.515625 L 0.859375 0 L 4.1875 0 C 6.265625 0 7.671875 -1.6875 7.671875 -4.265625 Z M 6.34375 -4.25 C 6.34375 -2.171875 5.625 -1.203125 4 -1.203125 L 2.1875 -1.203125 L 2.1875 -7.3125 L 4 -7.3125 C 5.625 -7.3125 6.34375 -6.34375 6.34375 -4.25 Z M 6.34375 -4.25 \"/>\n",
       "</symbol>\n",
       "<symbol overflow=\"visible\" id=\"glyph0-17\">\n",
       "<path style=\"stroke:none;\" d=\"M 5.9375 -2.828125 C 5.9375 -3.6875 5.859375 -4.21875 5.6875 -4.671875 C 5.3125 -5.640625 4.265625 -6.375 3.15625 -6.375 C 1.515625 -6.375 0.3125 -5 0.3125 -3.0625 C 0.3125 -1.125 1.484375 0.171875 3.140625 0.171875 C 4.5 0.171875 5.5625 -0.734375 5.828125 -2.078125 L 4.625 -2.078125 C 4.3125 -1.15625 3.9375 -0.984375 3.171875 -0.984375 C 2.1875 -0.984375 1.59375 -1.46875 1.5625 -2.6875 L 5.9375 -2.6875 Z M 4.875 -3.5625 C 4.875 -3.5625 4.6875 -3.71875 4.703125 -3.734375 L 1.609375 -3.734375 C 1.671875 -4.640625 2.203125 -5.21875 3.15625 -5.21875 C 4.078125 -5.21875 4.640625 -4.59375 4.640625 -3.65625 Z M 4.875 -3.5625 \"/>\n",
       "</symbol>\n",
       "<symbol overflow=\"visible\" id=\"glyph0-18\">\n",
       "<path style=\"stroke:none;\" d=\"M 7.421875 -2.640625 L 7.421875 -8.515625 L 6.09375 -8.515625 L 6.09375 -2.640625 C 6.09375 -1.53125 5.4375 -1 4.109375 -1 C 2.875 -1 2.140625 -1.453125 2.140625 -2.640625 L 2.140625 -8.515625 L 0.8125 -8.515625 L 0.8125 -2.640625 C 0.8125 -0.96875 2.15625 0.203125 4.109375 0.203125 C 6.046875 0.203125 7.421875 -1 7.421875 -2.640625 Z M 7.421875 -2.640625 \"/>\n",
       "</symbol>\n",
       "<symbol overflow=\"visible\" id=\"glyph0-19\">\n",
       "<path style=\"stroke:none;\" d=\"M 5.734375 -0.140625 L 5.734375 -8.515625 L 4.5 -8.515625 L 4.5 -5.3125 L 4.75 -5.40625 C 4.34375 -6.015625 3.625 -6.375 2.828125 -6.375 C 1.296875 -6.375 0.140625 -5.03125 0.140625 -3.15625 C 0.140625 -1.15625 1.28125 0.171875 2.875 0.171875 C 3.6875 0.171875 4.34375 -0.171875 4.84375 -0.90625 L 4.609375 -1 L 4.609375 0 L 5.734375 0 Z M 4.5 -3.078125 C 4.5 -1.703125 4 -1 3 -1 C 1.96875 -1 1.40625 -1.71875 1.40625 -3.09375 C 1.40625 -4.46875 1.96875 -5.203125 3 -5.203125 C 4.015625 -5.203125 4.5 -4.4375 4.5 -3.078125 Z M 4.5 -3.078125 \"/>\n",
       "</symbol>\n",
       "<symbol overflow=\"visible\" id=\"glyph0-20\">\n",
       "<path style=\"stroke:none;\" d=\"M 3.765625 -5.234375 L 3.765625 -6.3125 C 3.46875 -6.359375 3.390625 -6.375 3.265625 -6.375 C 2.65625 -6.375 2.09375 -5.96875 1.546875 -5.078125 L 1.78125 -4.984375 L 1.78125 -6.203125 L 0.640625 -6.203125 L 0.640625 0 L 1.859375 0 L 1.859375 -3.203125 C 1.859375 -4.546875 2.171875 -5.078125 3.765625 -5.09375 Z M 3.765625 -5.234375 \"/>\n",
       "</symbol>\n",
       "<symbol overflow=\"visible\" id=\"glyph0-21\">\n",
       "<path style=\"stroke:none;\" d=\"M 5.890625 -3.046875 C 5.890625 -5.09375 4.78125 -6.375 3.078125 -6.375 C 1.40625 -6.375 0.265625 -5.078125 0.265625 -3.09375 C 0.265625 -1.109375 1.40625 0.171875 3.078125 0.171875 C 4.75 0.171875 5.890625 -1.109375 5.890625 -3.046875 Z M 4.625 -3.0625 C 4.625 -1.671875 4.125 -0.984375 3.078125 -0.984375 C 2.03125 -0.984375 1.53125 -1.65625 1.53125 -3.09375 C 1.53125 -4.515625 2.03125 -5.21875 3.078125 -5.21875 C 4.140625 -5.21875 4.625 -4.53125 4.625 -3.0625 Z M 4.625 -3.0625 \"/>\n",
       "</symbol>\n",
       "<symbol overflow=\"visible\" id=\"glyph0-22\">\n",
       "<path style=\"stroke:none;\" d=\"M 1.84375 -0.140625 L 1.84375 -8.515625 L 0.625 -8.515625 L 0.625 0 L 1.84375 0 Z M 1.84375 -0.140625 \"/>\n",
       "</symbol>\n",
       "<symbol overflow=\"visible\" id=\"glyph0-23\">\n",
       "<path style=\"stroke:none;\" d=\"M 6.828125 -7.4375 L 6.828125 -8.515625 L 0.09375 -8.515625 L 0.09375 -7.3125 L 2.796875 -7.3125 L 2.796875 0 L 4.140625 0 L 4.140625 -7.3125 L 6.828125 -7.3125 Z M 6.828125 -7.4375 \"/>\n",
       "</symbol>\n",
       "<symbol overflow=\"visible\" id=\"glyph0-24\">\n",
       "<path style=\"stroke:none;\" d=\"M 7.640625 -3.28125 L 6.4375 -3.28125 C 6.171875 -1.578125 5.65625 -1 4.265625 -1 C 2.625 -1 1.734375 -2.109375 1.734375 -4.171875 C 1.734375 -6.28125 2.59375 -7.515625 4.1875 -7.515625 C 5.46875 -7.515625 6 -7.078125 6.296875 -5.6875 L 7.640625 -5.6875 C 7.28125 -7.625 6.109375 -8.71875 4.296875 -8.71875 C 1.8125 -8.71875 0.390625 -6.5625 0.390625 -4.15625 C 0.390625 -1.75 1.84375 0.203125 4.265625 0.203125 C 6.265625 0.203125 7.53125 -1 7.796875 -3.28125 Z M 7.640625 -3.28125 \"/>\n",
       "</symbol>\n",
       "<symbol overflow=\"visible\" id=\"glyph0-25\">\n",
       "<path style=\"stroke:none;\" d=\"M 3 -0.140625 L 3 -1.109375 C 2.75 -1.046875 2.59375 -1.03125 2.421875 -1.03125 C 2.015625 -1.03125 2.03125 -1 2.03125 -1.40625 L 2.03125 -5.15625 L 3 -5.15625 L 3 -6.203125 L 2.03125 -6.203125 L 2.03125 -7.828125 L 0.8125 -7.828125 L 0.8125 -6.203125 L 0.015625 -6.203125 L 0.015625 -5.15625 L 0.8125 -5.15625 L 0.8125 -1 C 0.8125 -0.390625 1.359375 0.078125 2.09375 0.078125 C 2.328125 0.078125 2.546875 0.0625 3 -0.015625 Z M 3 -0.140625 \"/>\n",
       "</symbol>\n",
       "<symbol overflow=\"visible\" id=\"glyph0-26\">\n",
       "<path style=\"stroke:none;\" d=\"M 8 -6.203125 L 6.828125 -6.203125 L 5.609375 -1.453125 L 5.890625 -1.453125 L 4.703125 -6.203125 L 3.328125 -6.203125 L 2.171875 -1.453125 L 2.453125 -1.453125 L 1.203125 -6.203125 L -0.125 -6.203125 L 1.6875 0 L 2.953125 0 L 4.125 -4.78125 L 3.84375 -4.78125 L 5.078125 0 L 6.34375 0 L 8.171875 -6.203125 Z M 8 -6.203125 \"/>\n",
       "</symbol>\n",
       "<symbol overflow=\"visible\" id=\"glyph1-0\">\n",
       "<path style=\"stroke:none;\" d=\"\"/>\n",
       "</symbol>\n",
       "<symbol overflow=\"visible\" id=\"glyph1-1\">\n",
       "<path style=\"stroke:none;\" d=\"M 7.046875 -5.3125 C 7.046875 -8.65625 5.546875 -10.015625 3.59375 -10.015625 C 1.6875 -10.015625 0.25 -8.609375 0.25 -6.625 C 0.25 -4.65625 1.53125 -3.265625 3.234375 -3.265625 C 4.078125 -3.265625 4.46875 -3.515625 4.9375 -4.03125 C 4.9375 -2.53125 4.546875 -1.78125 3.484375 -1.78125 C 2.828125 -1.78125 2.46875 -1.984375 2.421875 -2.703125 L 0.390625 -2.703125 C 0.4375 -1.09375 1.796875 0.125 3.4375 0.125 C 5.828125 0.125 7.046875 -1.9375 7.046875 -5.3125 Z M 4.890625 -6.625 C 4.890625 -5.5625 4.421875 -5.109375 3.5625 -5.109375 C 2.703125 -5.109375 2.28125 -5.5625 2.28125 -6.640625 C 2.28125 -7.75 2.703125 -8.203125 3.53125 -8.203125 C 4.453125 -8.203125 4.890625 -7.734375 4.890625 -6.625 Z M 4.890625 -6.625 \"/>\n",
       "</symbol>\n",
       "<symbol overflow=\"visible\" id=\"glyph1-2\">\n",
       "<path style=\"stroke:none;\" d=\"M 7.0625 -3.375 C 7.0625 -5.328125 5.75 -6.71875 3.984375 -6.71875 C 3.34375 -6.71875 2.796875 -6.515625 2.46875 -6.265625 L 2.71875 -7.859375 L 6.6875 -7.859375 L 6.6875 -9.828125 L 1.390625 -9.828125 L 0.5 -4.21875 L 2.375 -4.21875 C 2.640625 -4.828125 2.953125 -4.953125 3.53125 -4.953125 C 4.5 -4.953125 4.953125 -4.5 4.953125 -3.34375 C 4.953125 -2.21875 4.484375 -1.78125 3.53125 -1.78125 C 2.71875 -1.78125 2.328125 -2.046875 2.328125 -2.953125 L 0.234375 -2.953125 C 0.234375 -1.140625 1.65625 0.125 3.515625 0.125 C 5.5625 0.125 7.0625 -1.3125 7.0625 -3.375 Z M 7.0625 -3.375 \"/>\n",
       "</symbol>\n",
       "<symbol overflow=\"visible\" id=\"glyph1-3\">\n",
       "<path style=\"stroke:none;\" d=\"M 5.359375 -7.09375 C 5.359375 -8.46875 4.15625 -9.71875 2.765625 -9.71875 C 1.40625 -9.71875 0.171875 -8.46875 0.171875 -7.109375 C 0.171875 -5.765625 1.40625 -4.53125 2.765625 -4.53125 C 4.109375 -4.53125 5.359375 -5.765625 5.359375 -7.09375 Z M 3.796875 -7.109375 C 3.796875 -6.5 3.390625 -6.140625 2.765625 -6.140625 C 2.140625 -6.140625 1.734375 -6.5 1.734375 -7.109375 C 1.734375 -7.71875 2.140625 -8.09375 2.765625 -8.09375 C 3.40625 -8.09375 3.796875 -7.734375 3.796875 -7.109375 Z M 9.3125 -9.828125 L 7.828125 -9.828125 L 2.34375 0.265625 L 4.03125 0.265625 L 9.515625 -9.828125 Z M 11.71875 -2.375 C 11.71875 -3.78125 10.515625 -5.015625 9.140625 -5.015625 C 7.78125 -5.015625 6.53125 -3.765625 6.53125 -2.421875 C 6.53125 -1.0625 7.78125 0.171875 9.140625 0.171875 C 10.484375 0.171875 11.71875 -1.0625 11.71875 -2.375 Z M 10.15625 -2.390625 C 10.15625 -1.796875 9.75 -1.421875 9.140625 -1.421875 C 8.5 -1.421875 8.09375 -1.796875 8.09375 -2.40625 C 8.09375 -3.03125 8.5 -3.40625 9.140625 -3.40625 C 9.765625 -3.40625 10.15625 -3.03125 10.15625 -2.390625 Z M 10.15625 -2.390625 \"/>\n",
       "</symbol>\n",
       "<symbol overflow=\"visible\" id=\"glyph1-4\">\n",
       "<path style=\"stroke:none;\" d=\"\"/>\n",
       "</symbol>\n",
       "<symbol overflow=\"visible\" id=\"glyph1-5\">\n",
       "<path style=\"stroke:none;\" d=\"M 4.3125 -6 L 4.3125 -7.40625 L 3.203125 -7.40625 L 3.203125 -7.96875 C 3.203125 -8.34375 3.25 -8.390625 3.609375 -8.390625 C 3.765625 -8.390625 3.984375 -8.375 4.25 -8.328125 L 4.25 -10.03125 C 3.796875 -10.078125 3.328125 -10.09375 3.0625 -10.09375 C 1.8125 -10.09375 1.09375 -9.34375 1.09375 -8.125 L 1.09375 -7.40625 L 0.0625 -7.40625 L 0.0625 -5.859375 L 1.09375 -5.859375 L 1.09375 0 L 3.203125 0 L 3.203125 -5.859375 L 4.3125 -5.859375 Z M 4.3125 -6 \"/>\n",
       "</symbol>\n",
       "<symbol overflow=\"visible\" id=\"glyph1-6\">\n",
       "<path style=\"stroke:none;\" d=\"M 7.15625 -0.140625 L 7.15625 -0.4375 C 6.78125 -0.765625 6.71875 -0.875 6.71875 -1.25 L 6.71875 -5.28125 C 6.71875 -6.765625 5.609375 -7.671875 3.640625 -7.671875 C 1.6875 -7.671875 0.53125 -6.6875 0.421875 -4.875 L 2.4375 -4.875 C 2.5625 -5.765625 2.765625 -5.859375 3.6875 -5.859375 C 4.40625 -5.859375 4.65625 -5.765625 4.65625 -5.28125 C 4.65625 -4.5 4.203125 -4.734375 3.265625 -4.578125 L 2.515625 -4.4375 C 1.078125 -4.1875 0.25 -3.421875 0.25 -2.09375 C 0.25 -0.6875 1.375 0.125 2.578125 0.125 C 3.390625 0.125 4.203125 -0.265625 4.671875 -0.75 C 4.671875 -0.671875 4.75 -0.25 4.953125 0 L 7.15625 0 Z M 4.65625 -3.234375 C 4.65625 -2.15625 4.234375 -1.6875 3.28125 -1.6875 C 2.65625 -1.6875 2.375 -1.78125 2.375 -2.3125 C 2.375 -2.859375 2.5625 -2.9375 3.34375 -3.078125 L 3.984375 -3.203125 C 4.484375 -3.296875 4.625 -3.359375 4.65625 -3.375 Z M 4.65625 -3.234375 \"/>\n",
       "</symbol>\n",
       "<symbol overflow=\"visible\" id=\"glyph1-7\">\n",
       "<path style=\"stroke:none;\" d=\"M 11.1875 -0.140625 L 11.1875 -5.28125 C 11.1875 -6.6875 10.21875 -7.671875 8.765625 -7.671875 C 7.859375 -7.671875 7.125 -7.296875 6.65625 -6.671875 C 6.359375 -7.21875 5.5625 -7.671875 4.671875 -7.671875 C 3.828125 -7.671875 3.21875 -7.328125 2.78125 -6.828125 L 2.78125 -7.546875 L 0.6875 -7.546875 L 0.6875 0 L 2.796875 0 L 2.796875 -4.5 C 2.796875 -5.375 3.171875 -5.78125 3.984375 -5.78125 C 4.609375 -5.78125 4.890625 -5.5625 4.890625 -4.984375 L 4.890625 0 L 7 0 L 7 -4.5 C 7 -5.375 7.375 -5.78125 8.171875 -5.78125 C 8.8125 -5.78125 9.078125 -5.5625 9.078125 -4.984375 L 9.078125 0 L 11.1875 0 Z M 11.1875 -0.140625 \"/>\n",
       "</symbol>\n",
       "<symbol overflow=\"visible\" id=\"glyph1-8\">\n",
       "<path style=\"stroke:none;\" d=\"M 2.890625 -0.140625 L 2.890625 -7.546875 L 0.78125 -7.546875 L 0.78125 0 L 2.890625 0 Z M 2.921875 -8.28125 L 2.921875 -10.3125 L 0.8125 -10.3125 L 0.8125 -8.140625 L 2.921875 -8.140625 Z M 2.921875 -8.28125 \"/>\n",
       "</symbol>\n",
       "<symbol overflow=\"visible\" id=\"glyph1-9\">\n",
       "<path style=\"stroke:none;\" d=\"M 2.890625 -0.140625 L 2.890625 -10.09375 L 0.78125 -10.09375 L 0.78125 0 L 2.890625 0 Z M 2.890625 -0.140625 \"/>\n",
       "</symbol>\n",
       "<symbol overflow=\"visible\" id=\"glyph1-10\">\n",
       "<path style=\"stroke:none;\" d=\"M 7.234375 -7.546875 L 5.21875 -7.546875 L 3.671875 -2.109375 L 3.90625 -2.109375 L 2.25 -7.546875 L -0.046875 -7.546875 L 2.703125 0.171875 L 2.703125 0.21875 C 2.703125 0.90625 2.3125 1.28125 1.65625 1.28125 C 1.5 1.28125 1.40625 1.265625 1.03125 1.171875 L 1.03125 2.875 C 1.4375 2.9375 1.59375 2.953125 1.828125 2.953125 C 3.09375 2.953125 3.859375 2.578125 4.359375 1.203125 L 7.390625 -7.546875 Z M 7.234375 -7.546875 \"/>\n",
       "</symbol>\n",
       "<symbol overflow=\"visible\" id=\"glyph1-11\">\n",
       "<path style=\"stroke:none;\" d=\"M 4.109375 -2.921875 L 4.109375 -4.890625 L 0.234375 -4.890625 L 0.234375 -2.78125 L 4.109375 -2.78125 Z M 4.109375 -2.921875 \"/>\n",
       "</symbol>\n",
       "<symbol overflow=\"visible\" id=\"glyph1-12\">\n",
       "<path style=\"stroke:none;\" d=\"M 10.3125 -7.546875 L 8.28125 -7.546875 L 7.125 -2.3125 L 7.359375 -2.3125 L 6.234375 -7.546875 L 4.203125 -7.546875 L 3.046875 -2.3125 L 3.28125 -2.3125 L 2.078125 -7.546875 L -0.09375 -7.546875 L 2.03125 0 L 4.109375 0 L 5.3125 -5.265625 L 5.078125 -5.265625 L 6.21875 0 L 8.3125 0 L 10.453125 -7.546875 Z M 10.3125 -7.546875 \"/>\n",
       "</symbol>\n",
       "<symbol overflow=\"visible\" id=\"glyph1-13\">\n",
       "<path style=\"stroke:none;\" d=\"M 7.109375 -2.28125 L 7.109375 -2.375 C 7.109375 -3.21875 6.53125 -3.984375 5.5625 -4.265625 L 3.1875 -4.953125 C 2.65625 -5.09375 2.640625 -5.078125 2.640625 -5.375 C 2.640625 -5.765625 2.953125 -5.90625 3.625 -5.90625 C 4.515625 -5.90625 4.84375 -5.71875 4.875 -4.921875 L 6.90625 -4.921875 C 6.875 -6.59375 5.578125 -7.671875 3.625 -7.671875 C 1.796875 -7.671875 0.53125 -6.59375 0.53125 -5.09375 C 0.53125 -4.203125 0.890625 -3.59375 2.234375 -3.171875 L 4.484375 -2.46875 C 4.953125 -2.328125 4.984375 -2.3125 4.984375 -2.109375 C 4.984375 -1.671875 4.59375 -1.640625 3.71875 -1.640625 C 2.859375 -1.640625 2.5 -1.65625 2.296875 -2.578125 L 0.265625 -2.578125 C 0.328125 -0.84375 1.609375 0.125 3.828125 0.125 C 5.859375 0.125 7.109375 -0.828125 7.109375 -2.28125 Z M 7.109375 -2.28125 \"/>\n",
       "</symbol>\n",
       "<symbol overflow=\"visible\" id=\"glyph1-14\">\n",
       "<path style=\"stroke:none;\" d=\"M 7.171875 -3.5 C 7.171875 -6 5.796875 -7.671875 3.65625 -7.671875 C 1.578125 -7.671875 0.171875 -6.109375 0.171875 -3.671875 C 0.171875 -1.34375 1.5625 0.125 3.625 0.125 C 5.25 0.125 6.671875 -0.75 7.125 -2.328125 L 5.0625 -2.328125 C 4.84375 -1.65625 4.375 -1.59375 3.6875 -1.59375 C 2.796875 -1.59375 2.34375 -1.859375 2.28125 -3.140625 L 7.140625 -3.140625 Z M 5.09375 -4.671875 L 2.328125 -4.671875 C 2.4375 -5.53125 2.796875 -5.953125 3.625 -5.953125 C 4.4375 -5.953125 4.890625 -5.5625 4.96875 -4.671875 Z M 5.09375 -4.671875 \"/>\n",
       "</symbol>\n",
       "<symbol overflow=\"visible\" id=\"glyph1-15\">\n",
       "<path style=\"stroke:none;\" d=\"M 7.015625 -2.796875 L 5.15625 -2.796875 C 4.859375 -1.890625 4.59375 -1.6875 3.875 -1.6875 C 2.921875 -1.6875 2.453125 -2.296875 2.453125 -3.71875 C 2.453125 -5.046875 2.6875 -5.859375 3.875 -5.859375 C 4.640625 -5.859375 4.890625 -5.640625 5.140625 -4.546875 L 7.125 -4.546875 C 7 -6.453125 5.703125 -7.671875 3.890625 -7.671875 C 1.71875 -7.671875 0.34375 -6.1875 0.34375 -3.71875 C 0.34375 -1.3125 1.703125 0.125 3.859375 0.125 C 5.625 0.125 6.953125 -1.109375 7.140625 -2.796875 Z M 7.015625 -2.796875 \"/>\n",
       "</symbol>\n",
       "<symbol overflow=\"visible\" id=\"glyph1-16\">\n",
       "<path style=\"stroke:none;\" d=\"M 7.765625 -3.71875 C 7.765625 -6.171875 6.328125 -7.671875 4.046875 -7.671875 C 1.828125 -7.671875 0.34375 -6.140625 0.34375 -3.765625 C 0.34375 -1.375 1.828125 0.125 4.0625 0.125 C 6.265625 0.125 7.765625 -1.390625 7.765625 -3.71875 Z M 5.65625 -3.734375 C 5.65625 -2.375 5.078125 -1.6875 4.0625 -1.6875 C 3.046875 -1.6875 2.46875 -2.375 2.46875 -3.765625 C 2.46875 -5.15625 3.046875 -5.859375 4.0625 -5.859375 C 5.09375 -5.859375 5.65625 -5.171875 5.65625 -3.734375 Z M 5.65625 -3.734375 \"/>\n",
       "</symbol>\n",
       "<symbol overflow=\"visible\" id=\"glyph1-17\">\n",
       "<path style=\"stroke:none;\" d=\"M 7.453125 -0.140625 L 7.453125 -5 C 7.453125 -6.609375 6.453125 -7.671875 4.90625 -7.671875 C 3.921875 -7.671875 3.1875 -7.25 2.65625 -6.4375 L 2.84375 -6.34375 L 2.84375 -7.546875 L 0.71875 -7.546875 L 0.71875 0 L 2.84375 0 L 2.84375 -4.5 C 2.84375 -5.359375 3.34375 -5.78125 4.25 -5.78125 C 5.0625 -5.78125 5.34375 -5.46875 5.34375 -4.609375 L 5.34375 0 L 7.453125 0 Z M 7.453125 -0.140625 \"/>\n",
       "</symbol>\n",
       "<symbol overflow=\"visible\" id=\"glyph1-18\">\n",
       "<path style=\"stroke:none;\" d=\"M 7.4375 -0.140625 L 7.4375 -10.09375 L 5.328125 -10.09375 L 5.328125 -6.453125 L 5.515625 -6.546875 C 5.046875 -7.28125 4.34375 -7.671875 3.4375 -7.671875 C 1.703125 -7.671875 0.265625 -5.953125 0.265625 -3.75 C 0.265625 -1.6875 1.515625 0.125 3.4375 0.125 C 4.34375 0.125 5.046875 -0.25 5.515625 -0.875 L 5.328125 -0.96875 L 5.328125 0 L 7.4375 0 Z M 5.328125 -3.71875 C 5.328125 -2.40625 4.796875 -1.734375 3.859375 -1.734375 C 2.921875 -1.734375 2.375 -2.421875 2.375 -3.75 C 2.375 -5.09375 2.921875 -5.8125 3.859375 -5.8125 C 4.8125 -5.8125 5.328125 -5.109375 5.328125 -3.71875 Z M 5.328125 -3.71875 \"/>\n",
       "</symbol>\n",
       "<symbol overflow=\"visible\" id=\"glyph1-19\">\n",
       "<path style=\"stroke:none;\" d=\"M 7.203125 -7.546875 L 5.140625 -7.546875 L 3.625 -2.078125 L 3.859375 -2.078125 L 2.25 -7.546875 L 0.03125 -7.546875 L 2.65625 0 L 4.765625 0 L 7.359375 -7.546875 Z M 7.203125 -7.546875 \"/>\n",
       "</symbol>\n",
       "</g>\n",
       "<clipPath id=\"clip1\">\n",
       "  <path d=\"M 259.199219 62 L 570 62 L 570 63 L 259.199219 63 Z M 259.199219 62 \"/>\n",
       "</clipPath>\n",
       "<clipPath id=\"clip2\">\n",
       "  <path d=\"M 259.199219 192 L 570 192 L 570 194 L 259.199219 194 Z M 259.199219 192 \"/>\n",
       "</clipPath>\n",
       "<clipPath id=\"clip3\">\n",
       "  <path d=\"M 259.199219 323 L 570 323 L 570 324 L 259.199219 324 Z M 259.199219 323 \"/>\n",
       "</clipPath>\n",
       "<clipPath id=\"clip4\">\n",
       "  <path d=\"M 558 51.839844 L 559 51.839844 L 559 335 L 558 335 Z M 558 51.839844 \"/>\n",
       "</clipPath>\n",
       "<clipPath id=\"clip5\">\n",
       "  <path d=\"M 451 51.839844 L 453 51.839844 L 453 76 L 451 76 Z M 451 51.839844 \"/>\n",
       "</clipPath>\n",
       "<clipPath id=\"clip6\">\n",
       "  <path d=\"M 455 310 L 457 310 L 457 335.078125 L 455 335.078125 Z M 455 310 \"/>\n",
       "</clipPath>\n",
       "<clipPath id=\"clip7\">\n",
       "  <path d=\"M 360 51.839844 L 362 51.839844 L 362 76 L 360 76 Z M 360 51.839844 \"/>\n",
       "</clipPath>\n",
       "<clipPath id=\"clip8\">\n",
       "  <path d=\"M 354 310 L 356 310 L 356 335.078125 L 354 335.078125 Z M 354 310 \"/>\n",
       "</clipPath>\n",
       "<clipPath id=\"clip9\">\n",
       "  <path d=\"M 541 51.839844 L 543 51.839844 L 543 76 L 541 76 Z M 541 51.839844 \"/>\n",
       "</clipPath>\n",
       "<clipPath id=\"clip10\">\n",
       "  <path d=\"M 557 310 L 559 310 L 559 335.078125 L 557 335.078125 Z M 557 310 \"/>\n",
       "</clipPath>\n",
       "</defs>\n",
       "<g id=\"surface1410\">\n",
       "<rect x=\"0\" y=\"0\" width=\"576\" height=\"360\" style=\"fill:rgb(100%,100%,100%);fill-opacity:1;stroke:none;\"/>\n",
       "<path style=\"fill:none;stroke-width:1;stroke-linecap:round;stroke-linejoin:round;stroke:rgb(0%,0%,0%);stroke-opacity:1;stroke-miterlimit:10;\" d=\"M 318.976562 334.078125 L 558.296875 334.078125 \"/>\n",
       "<path style=\"fill:none;stroke-width:1;stroke-linecap:round;stroke-linejoin:round;stroke:rgb(0%,0%,0%);stroke-opacity:1;stroke-miterlimit:10;\" d=\"M 318.976562 334.078125 L 318.976562 340.558594 \"/>\n",
       "<path style=\"fill:none;stroke-width:1;stroke-linecap:round;stroke-linejoin:round;stroke:rgb(0%,0%,0%);stroke-opacity:1;stroke-miterlimit:10;\" d=\"M 378.808594 334.078125 L 378.808594 340.558594 \"/>\n",
       "<path style=\"fill:none;stroke-width:1;stroke-linecap:round;stroke-linejoin:round;stroke:rgb(0%,0%,0%);stroke-opacity:1;stroke-miterlimit:10;\" d=\"M 438.636719 334.078125 L 438.636719 340.558594 \"/>\n",
       "<path style=\"fill:none;stroke-width:1;stroke-linecap:round;stroke-linejoin:round;stroke:rgb(0%,0%,0%);stroke-opacity:1;stroke-miterlimit:10;\" d=\"M 498.464844 334.078125 L 498.464844 340.558594 \"/>\n",
       "<path style=\"fill:none;stroke-width:1;stroke-linecap:round;stroke-linejoin:round;stroke:rgb(0%,0%,0%);stroke-opacity:1;stroke-miterlimit:10;\" d=\"M 558.296875 334.078125 L 558.296875 340.558594 \"/>\n",
       "<g style=\"fill:rgb(0%,0%,0%);fill-opacity:1;\">\n",
       "  <use xlink:href=\"#glyph0-1\" x=\"309.246094\" y=\"358.703125\"/>\n",
       "  <use xlink:href=\"#glyph0-2\" x=\"313.007996\" y=\"358.703125\"/>\n",
       "  <use xlink:href=\"#glyph0-3\" x=\"319.289124\" y=\"358.703125\"/>\n",
       "  <use xlink:href=\"#glyph0-4\" x=\"322.429688\" y=\"358.703125\"/>\n",
       "</g>\n",
       "<g style=\"fill:rgb(0%,0%,0%);fill-opacity:1;\">\n",
       "  <use xlink:href=\"#glyph0-1\" x=\"369.078125\" y=\"358.703125\"/>\n",
       "  <use xlink:href=\"#glyph0-2\" x=\"372.840027\" y=\"358.703125\"/>\n",
       "  <use xlink:href=\"#glyph0-3\" x=\"379.121155\" y=\"358.703125\"/>\n",
       "  <use xlink:href=\"#glyph0-5\" x=\"382.261719\" y=\"358.703125\"/>\n",
       "</g>\n",
       "<g style=\"fill:rgb(0%,0%,0%);fill-opacity:1;\">\n",
       "  <use xlink:href=\"#glyph0-1\" x=\"428.90625\" y=\"358.703125\"/>\n",
       "  <use xlink:href=\"#glyph0-2\" x=\"432.668152\" y=\"358.703125\"/>\n",
       "  <use xlink:href=\"#glyph0-3\" x=\"438.94928\" y=\"358.703125\"/>\n",
       "  <use xlink:href=\"#glyph0-6\" x=\"442.089844\" y=\"358.703125\"/>\n",
       "</g>\n",
       "<g style=\"fill:rgb(0%,0%,0%);fill-opacity:1;\">\n",
       "  <use xlink:href=\"#glyph0-1\" x=\"488.734375\" y=\"358.703125\"/>\n",
       "  <use xlink:href=\"#glyph0-2\" x=\"492.496277\" y=\"358.703125\"/>\n",
       "  <use xlink:href=\"#glyph0-3\" x=\"498.777405\" y=\"358.703125\"/>\n",
       "  <use xlink:href=\"#glyph0-7\" x=\"501.917969\" y=\"358.703125\"/>\n",
       "</g>\n",
       "<g style=\"fill:rgb(0%,0%,0%);fill-opacity:1;\">\n",
       "  <use xlink:href=\"#glyph0-2\" x=\"550.445312\" y=\"358.703125\"/>\n",
       "  <use xlink:href=\"#glyph0-3\" x=\"556.72644\" y=\"358.703125\"/>\n",
       "  <use xlink:href=\"#glyph0-2\" x=\"559.867004\" y=\"358.703125\"/>\n",
       "</g>\n",
       "<path style=\"fill:none;stroke-width:1;stroke-linecap:round;stroke-linejoin:round;stroke:rgb(0%,0%,0%);stroke-opacity:1;stroke-miterlimit:10;\" d=\"M 259.199219 323.625 L 259.199219 62.292969 \"/>\n",
       "<path style=\"fill:none;stroke-width:1;stroke-linecap:round;stroke-linejoin:round;stroke:rgb(0%,0%,0%);stroke-opacity:1;stroke-miterlimit:10;\" d=\"M 259.199219 323.625 L 252.71875 323.625 \"/>\n",
       "<path style=\"fill:none;stroke-width:1;stroke-linecap:round;stroke-linejoin:round;stroke:rgb(0%,0%,0%);stroke-opacity:1;stroke-miterlimit:10;\" d=\"M 259.199219 192.960938 L 252.71875 192.960938 \"/>\n",
       "<path style=\"fill:none;stroke-width:1;stroke-linecap:round;stroke-linejoin:round;stroke:rgb(0%,0%,0%);stroke-opacity:1;stroke-miterlimit:10;\" d=\"M 259.199219 62.292969 L 252.71875 62.292969 \"/>\n",
       "<g style=\"fill:rgb(0%,0%,0%);fill-opacity:1;\">\n",
       "  <use xlink:href=\"#glyph0-8\" x=\"99.332031\" y=\"327.882812\"/>\n",
       "  <use xlink:href=\"#glyph0-9\" x=\"109.996384\" y=\"327.882812\"/>\n",
       "  <use xlink:href=\"#glyph0-10\" x=\"116.277512\" y=\"327.882812\"/>\n",
       "  <use xlink:href=\"#glyph0-11\" x=\"121.92601\" y=\"327.882812\"/>\n",
       "  <use xlink:href=\"#glyph0-12\" x=\"128.207138\" y=\"327.882812\"/>\n",
       "  <use xlink:href=\"#glyph0-13\" x=\"130.715073\" y=\"327.882812\"/>\n",
       "  <use xlink:href=\"#glyph0-14\" x=\"136.996201\" y=\"327.882812\"/>\n",
       "  <use xlink:href=\"#glyph0-15\" x=\"143.277328\" y=\"327.882812\"/>\n",
       "  <use xlink:href=\"#glyph0-16\" x=\"146.417892\" y=\"327.882812\"/>\n",
       "  <use xlink:href=\"#glyph0-12\" x=\"154.57431\" y=\"327.882812\"/>\n",
       "  <use xlink:href=\"#glyph0-10\" x=\"157.082245\" y=\"327.882812\"/>\n",
       "  <use xlink:href=\"#glyph0-11\" x=\"162.730743\" y=\"327.882812\"/>\n",
       "  <use xlink:href=\"#glyph0-17\" x=\"169.011871\" y=\"327.882812\"/>\n",
       "  <use xlink:href=\"#glyph0-10\" x=\"175.292999\" y=\"327.882812\"/>\n",
       "  <use xlink:href=\"#glyph0-15\" x=\"180.941498\" y=\"327.882812\"/>\n",
       "  <use xlink:href=\"#glyph0-5\" x=\"184.082062\" y=\"327.882812\"/>\n",
       "  <use xlink:href=\"#glyph0-1\" x=\"190.36319\" y=\"327.882812\"/>\n",
       "  <use xlink:href=\"#glyph0-18\" x=\"194.125092\" y=\"327.882812\"/>\n",
       "  <use xlink:href=\"#glyph0-13\" x=\"202.281509\" y=\"327.882812\"/>\n",
       "  <use xlink:href=\"#glyph0-19\" x=\"208.562637\" y=\"327.882812\"/>\n",
       "  <use xlink:href=\"#glyph0-17\" x=\"214.843765\" y=\"327.882812\"/>\n",
       "  <use xlink:href=\"#glyph0-20\" x=\"221.124893\" y=\"327.882812\"/>\n",
       "  <use xlink:href=\"#glyph0-14\" x=\"224.886795\" y=\"327.882812\"/>\n",
       "  <use xlink:href=\"#glyph0-21\" x=\"231.167923\" y=\"327.882812\"/>\n",
       "  <use xlink:href=\"#glyph0-9\" x=\"237.449051\" y=\"327.882812\"/>\n",
       "  <use xlink:href=\"#glyph0-22\" x=\"243.730179\" y=\"327.882812\"/>\n",
       "</g>\n",
       "<g style=\"fill:rgb(0%,0%,0%);fill-opacity:1;\">\n",
       "  <use xlink:href=\"#glyph0-8\" x=\"32.792969\" y=\"197.21875\"/>\n",
       "  <use xlink:href=\"#glyph0-9\" x=\"43.457321\" y=\"197.21875\"/>\n",
       "  <use xlink:href=\"#glyph0-10\" x=\"49.738449\" y=\"197.21875\"/>\n",
       "  <use xlink:href=\"#glyph0-11\" x=\"55.386948\" y=\"197.21875\"/>\n",
       "  <use xlink:href=\"#glyph0-12\" x=\"61.668076\" y=\"197.21875\"/>\n",
       "  <use xlink:href=\"#glyph0-13\" x=\"64.17601\" y=\"197.21875\"/>\n",
       "  <use xlink:href=\"#glyph0-14\" x=\"70.457138\" y=\"197.21875\"/>\n",
       "  <use xlink:href=\"#glyph0-15\" x=\"76.738266\" y=\"197.21875\"/>\n",
       "  <use xlink:href=\"#glyph0-16\" x=\"79.87883\" y=\"197.21875\"/>\n",
       "  <use xlink:href=\"#glyph0-12\" x=\"88.035248\" y=\"197.21875\"/>\n",
       "  <use xlink:href=\"#glyph0-10\" x=\"90.543182\" y=\"197.21875\"/>\n",
       "  <use xlink:href=\"#glyph0-11\" x=\"96.191681\" y=\"197.21875\"/>\n",
       "  <use xlink:href=\"#glyph0-17\" x=\"102.472809\" y=\"197.21875\"/>\n",
       "  <use xlink:href=\"#glyph0-10\" x=\"108.753937\" y=\"197.21875\"/>\n",
       "  <use xlink:href=\"#glyph0-15\" x=\"114.402435\" y=\"197.21875\"/>\n",
       "  <use xlink:href=\"#glyph0-5\" x=\"117.542999\" y=\"197.21875\"/>\n",
       "  <use xlink:href=\"#glyph0-1\" x=\"123.824127\" y=\"197.21875\"/>\n",
       "  <use xlink:href=\"#glyph0-23\" x=\"127.586029\" y=\"197.21875\"/>\n",
       "  <use xlink:href=\"#glyph0-11\" x=\"134.488495\" y=\"197.21875\"/>\n",
       "  <use xlink:href=\"#glyph0-17\" x=\"140.769623\" y=\"197.21875\"/>\n",
       "  <use xlink:href=\"#glyph0-15\" x=\"147.050751\" y=\"197.21875\"/>\n",
       "  <use xlink:href=\"#glyph0-24\" x=\"150.191315\" y=\"197.21875\"/>\n",
       "  <use xlink:href=\"#glyph0-9\" x=\"158.347733\" y=\"197.21875\"/>\n",
       "  <use xlink:href=\"#glyph0-25\" x=\"164.62886\" y=\"197.21875\"/>\n",
       "  <use xlink:href=\"#glyph0-15\" x=\"167.769424\" y=\"197.21875\"/>\n",
       "  <use xlink:href=\"#glyph0-26\" x=\"170.909988\" y=\"197.21875\"/>\n",
       "  <use xlink:href=\"#glyph0-12\" x=\"179.066406\" y=\"197.21875\"/>\n",
       "  <use xlink:href=\"#glyph0-25\" x=\"181.574341\" y=\"197.21875\"/>\n",
       "  <use xlink:href=\"#glyph0-11\" x=\"184.714905\" y=\"197.21875\"/>\n",
       "  <use xlink:href=\"#glyph0-15\" x=\"190.996033\" y=\"197.21875\"/>\n",
       "  <use xlink:href=\"#glyph0-23\" x=\"194.136597\" y=\"197.21875\"/>\n",
       "  <use xlink:href=\"#glyph0-26\" x=\"201.039062\" y=\"197.21875\"/>\n",
       "  <use xlink:href=\"#glyph0-21\" x=\"209.19548\" y=\"197.21875\"/>\n",
       "  <use xlink:href=\"#glyph0-15\" x=\"215.476608\" y=\"197.21875\"/>\n",
       "  <use xlink:href=\"#glyph0-23\" x=\"218.617172\" y=\"197.21875\"/>\n",
       "  <use xlink:href=\"#glyph0-9\" x=\"225.519638\" y=\"197.21875\"/>\n",
       "  <use xlink:href=\"#glyph0-22\" x=\"231.800766\" y=\"197.21875\"/>\n",
       "  <use xlink:href=\"#glyph0-17\" x=\"234.308701\" y=\"197.21875\"/>\n",
       "  <use xlink:href=\"#glyph0-10\" x=\"240.589828\" y=\"197.21875\"/>\n",
       "</g>\n",
       "<g style=\"fill:rgb(0%,0%,0%);fill-opacity:1;\">\n",
       "  <use xlink:href=\"#glyph0-18\" x=\"71.710938\" y=\"66.550781\"/>\n",
       "  <use xlink:href=\"#glyph0-13\" x=\"79.867355\" y=\"66.550781\"/>\n",
       "  <use xlink:href=\"#glyph0-19\" x=\"86.148483\" y=\"66.550781\"/>\n",
       "  <use xlink:href=\"#glyph0-17\" x=\"92.429611\" y=\"66.550781\"/>\n",
       "  <use xlink:href=\"#glyph0-20\" x=\"98.710739\" y=\"66.550781\"/>\n",
       "  <use xlink:href=\"#glyph0-14\" x=\"102.472641\" y=\"66.550781\"/>\n",
       "  <use xlink:href=\"#glyph0-21\" x=\"108.753769\" y=\"66.550781\"/>\n",
       "  <use xlink:href=\"#glyph0-9\" x=\"115.034897\" y=\"66.550781\"/>\n",
       "  <use xlink:href=\"#glyph0-22\" x=\"121.316025\" y=\"66.550781\"/>\n",
       "  <use xlink:href=\"#glyph0-1\" x=\"123.823959\" y=\"66.550781\"/>\n",
       "  <use xlink:href=\"#glyph0-23\" x=\"127.585861\" y=\"66.550781\"/>\n",
       "  <use xlink:href=\"#glyph0-11\" x=\"134.488327\" y=\"66.550781\"/>\n",
       "  <use xlink:href=\"#glyph0-17\" x=\"140.769455\" y=\"66.550781\"/>\n",
       "  <use xlink:href=\"#glyph0-15\" x=\"147.050583\" y=\"66.550781\"/>\n",
       "  <use xlink:href=\"#glyph0-24\" x=\"150.191147\" y=\"66.550781\"/>\n",
       "  <use xlink:href=\"#glyph0-9\" x=\"158.347565\" y=\"66.550781\"/>\n",
       "  <use xlink:href=\"#glyph0-25\" x=\"164.628693\" y=\"66.550781\"/>\n",
       "  <use xlink:href=\"#glyph0-15\" x=\"167.769257\" y=\"66.550781\"/>\n",
       "  <use xlink:href=\"#glyph0-26\" x=\"170.909821\" y=\"66.550781\"/>\n",
       "  <use xlink:href=\"#glyph0-12\" x=\"179.066238\" y=\"66.550781\"/>\n",
       "  <use xlink:href=\"#glyph0-25\" x=\"181.574173\" y=\"66.550781\"/>\n",
       "  <use xlink:href=\"#glyph0-11\" x=\"184.714737\" y=\"66.550781\"/>\n",
       "  <use xlink:href=\"#glyph0-15\" x=\"190.995865\" y=\"66.550781\"/>\n",
       "  <use xlink:href=\"#glyph0-23\" x=\"194.136429\" y=\"66.550781\"/>\n",
       "  <use xlink:href=\"#glyph0-26\" x=\"201.038895\" y=\"66.550781\"/>\n",
       "  <use xlink:href=\"#glyph0-21\" x=\"209.195312\" y=\"66.550781\"/>\n",
       "  <use xlink:href=\"#glyph0-15\" x=\"215.47644\" y=\"66.550781\"/>\n",
       "  <use xlink:href=\"#glyph0-23\" x=\"218.617004\" y=\"66.550781\"/>\n",
       "  <use xlink:href=\"#glyph0-9\" x=\"225.51947\" y=\"66.550781\"/>\n",
       "  <use xlink:href=\"#glyph0-22\" x=\"231.800598\" y=\"66.550781\"/>\n",
       "  <use xlink:href=\"#glyph0-17\" x=\"234.308533\" y=\"66.550781\"/>\n",
       "  <use xlink:href=\"#glyph0-10\" x=\"240.589661\" y=\"66.550781\"/>\n",
       "</g>\n",
       "<g clip-path=\"url(#clip1)\" clip-rule=\"nonzero\">\n",
       "<path style=\"fill:none;stroke-width:0.5;stroke-linecap:round;stroke-linejoin:round;stroke:rgb(82.745098%,82.745098%,82.745098%);stroke-opacity:1;stroke-miterlimit:10;\" d=\"M 259.199219 62.292969 L 569.519531 62.292969 \"/>\n",
       "</g>\n",
       "<g clip-path=\"url(#clip2)\" clip-rule=\"nonzero\">\n",
       "<path style=\"fill:none;stroke-width:0.5;stroke-linecap:round;stroke-linejoin:round;stroke:rgb(82.745098%,82.745098%,82.745098%);stroke-opacity:1;stroke-miterlimit:10;\" d=\"M 259.199219 192.960938 L 569.519531 192.960938 \"/>\n",
       "</g>\n",
       "<g clip-path=\"url(#clip3)\" clip-rule=\"nonzero\">\n",
       "<path style=\"fill:none;stroke-width:0.5;stroke-linecap:round;stroke-linejoin:round;stroke:rgb(82.745098%,82.745098%,82.745098%);stroke-opacity:1;stroke-miterlimit:10;\" d=\"M 259.199219 323.625 L 569.519531 323.625 \"/>\n",
       "</g>\n",
       "<g clip-path=\"url(#clip4)\" clip-rule=\"nonzero\">\n",
       "<path style=\"fill:none;stroke-width:0.5;stroke-linecap:round;stroke-linejoin:round;stroke:rgb(0%,0%,0%);stroke-opacity:1;stroke-dasharray:4,4;stroke-miterlimit:10;\" d=\"M 558.296875 334.078125 L 558.296875 51.839844 \"/>\n",
       "</g>\n",
       "<path style=\"fill:none;stroke-width:1;stroke-linecap:round;stroke-linejoin:round;stroke:rgb(0%,0%,0%);stroke-opacity:1;stroke-miterlimit:10;\" d=\"M 361.34375 62.292969 L 541.980469 62.292969 \"/>\n",
       "<path style=\"fill:none;stroke-width:1;stroke-linecap:round;stroke-linejoin:round;stroke:rgb(0%,0%,0%);stroke-opacity:1;stroke-miterlimit:10;\" d=\"M 270.691406 192.960938 L 428.914062 192.960938 \"/>\n",
       "<path style=\"fill:none;stroke-width:1;stroke-linecap:round;stroke-linejoin:round;stroke:rgb(0%,0%,0%);stroke-opacity:1;stroke-miterlimit:10;\" d=\"M 354.847656 323.625 L 558.027344 323.625 \"/>\n",
       "<g clip-path=\"url(#clip5)\" clip-rule=\"nonzero\">\n",
       "<path style=\"fill:none;stroke-width:1;stroke-linecap:round;stroke-linejoin:round;stroke:rgb(0%,0%,0%);stroke-opacity:1;stroke-miterlimit:10;\" d=\"M 451.664062 75.359375 L 451.664062 49.226562 \"/>\n",
       "</g>\n",
       "<path style=\"fill:none;stroke-width:1;stroke-linecap:round;stroke-linejoin:round;stroke:rgb(0%,0%,0%);stroke-opacity:1;stroke-miterlimit:10;\" d=\"M 349.804688 206.027344 L 349.804688 179.894531 \"/>\n",
       "<g clip-path=\"url(#clip6)\" clip-rule=\"nonzero\">\n",
       "<path style=\"fill:none;stroke-width:1;stroke-linecap:round;stroke-linejoin:round;stroke:rgb(0%,0%,0%);stroke-opacity:1;stroke-miterlimit:10;\" d=\"M 456.4375 336.691406 L 456.4375 310.558594 \"/>\n",
       "</g>\n",
       "<g clip-path=\"url(#clip7)\" clip-rule=\"nonzero\">\n",
       "<path style=\"fill:none;stroke-width:1;stroke-linecap:round;stroke-linejoin:round;stroke:rgb(0%,0%,0%);stroke-opacity:1;stroke-miterlimit:10;\" d=\"M 361.34375 75.359375 L 361.34375 49.226562 \"/>\n",
       "</g>\n",
       "<path style=\"fill:none;stroke-width:1;stroke-linecap:round;stroke-linejoin:round;stroke:rgb(0%,0%,0%);stroke-opacity:1;stroke-miterlimit:10;\" d=\"M 270.691406 206.027344 L 270.691406 179.894531 \"/>\n",
       "<g clip-path=\"url(#clip8)\" clip-rule=\"nonzero\">\n",
       "<path style=\"fill:none;stroke-width:1;stroke-linecap:round;stroke-linejoin:round;stroke:rgb(0%,0%,0%);stroke-opacity:1;stroke-miterlimit:10;\" d=\"M 354.847656 336.691406 L 354.847656 310.558594 \"/>\n",
       "</g>\n",
       "<g clip-path=\"url(#clip9)\" clip-rule=\"nonzero\">\n",
       "<path style=\"fill:none;stroke-width:1;stroke-linecap:round;stroke-linejoin:round;stroke:rgb(0%,0%,0%);stroke-opacity:1;stroke-miterlimit:10;\" d=\"M 541.980469 75.359375 L 541.980469 49.226562 \"/>\n",
       "</g>\n",
       "<path style=\"fill:none;stroke-width:1;stroke-linecap:round;stroke-linejoin:round;stroke:rgb(0%,0%,0%);stroke-opacity:1;stroke-miterlimit:10;\" d=\"M 428.914062 206.027344 L 428.914062 179.894531 \"/>\n",
       "<g clip-path=\"url(#clip10)\" clip-rule=\"nonzero\">\n",
       "<path style=\"fill:none;stroke-width:1;stroke-linecap:round;stroke-linejoin:round;stroke:rgb(0%,0%,0%);stroke-opacity:1;stroke-miterlimit:10;\" d=\"M 558.027344 336.691406 L 558.027344 310.558594 \"/>\n",
       "</g>\n",
       "<g style=\"fill:rgb(0%,0%,0%);fill-opacity:1;\">\n",
       "  <use xlink:href=\"#glyph1-1\" x=\"308.558594\" y=\"23.191406\"/>\n",
       "  <use xlink:href=\"#glyph1-2\" x=\"316.038467\" y=\"23.191406\"/>\n",
       "  <use xlink:href=\"#glyph1-3\" x=\"323.518341\" y=\"23.191406\"/>\n",
       "  <use xlink:href=\"#glyph1-4\" x=\"335.478058\" y=\"23.191406\"/>\n",
       "  <use xlink:href=\"#glyph1-5\" x=\"339.217987\" y=\"23.191406\"/>\n",
       "  <use xlink:href=\"#glyph1-6\" x=\"343.697845\" y=\"23.191406\"/>\n",
       "  <use xlink:href=\"#glyph1-7\" x=\"351.177719\" y=\"23.191406\"/>\n",
       "  <use xlink:href=\"#glyph1-8\" x=\"363.137436\" y=\"23.191406\"/>\n",
       "  <use xlink:href=\"#glyph1-9\" x=\"366.877365\" y=\"23.191406\"/>\n",
       "  <use xlink:href=\"#glyph1-10\" x=\"370.617294\" y=\"23.191406\"/>\n",
       "  <use xlink:href=\"#glyph1-11\" x=\"378.097168\" y=\"23.191406\"/>\n",
       "  <use xlink:href=\"#glyph1-12\" x=\"382.577026\" y=\"23.191406\"/>\n",
       "  <use xlink:href=\"#glyph1-8\" x=\"393.043472\" y=\"23.191406\"/>\n",
       "  <use xlink:href=\"#glyph1-13\" x=\"396.783401\" y=\"23.191406\"/>\n",
       "  <use xlink:href=\"#glyph1-14\" x=\"404.263275\" y=\"23.191406\"/>\n",
       "  <use xlink:href=\"#glyph1-4\" x=\"411.743149\" y=\"23.191406\"/>\n",
       "  <use xlink:href=\"#glyph1-15\" x=\"415.483078\" y=\"23.191406\"/>\n",
       "  <use xlink:href=\"#glyph1-16\" x=\"422.962952\" y=\"23.191406\"/>\n",
       "  <use xlink:href=\"#glyph1-17\" x=\"431.182739\" y=\"23.191406\"/>\n",
       "  <use xlink:href=\"#glyph1-5\" x=\"439.402527\" y=\"23.191406\"/>\n",
       "  <use xlink:href=\"#glyph1-8\" x=\"443.882385\" y=\"23.191406\"/>\n",
       "  <use xlink:href=\"#glyph1-18\" x=\"447.622314\" y=\"23.191406\"/>\n",
       "  <use xlink:href=\"#glyph1-14\" x=\"455.842102\" y=\"23.191406\"/>\n",
       "  <use xlink:href=\"#glyph1-17\" x=\"463.321976\" y=\"23.191406\"/>\n",
       "  <use xlink:href=\"#glyph1-15\" x=\"471.541763\" y=\"23.191406\"/>\n",
       "  <use xlink:href=\"#glyph1-14\" x=\"479.021637\" y=\"23.191406\"/>\n",
       "  <use xlink:href=\"#glyph1-4\" x=\"486.501511\" y=\"23.191406\"/>\n",
       "  <use xlink:href=\"#glyph1-9\" x=\"490.24144\" y=\"23.191406\"/>\n",
       "  <use xlink:href=\"#glyph1-14\" x=\"493.981369\" y=\"23.191406\"/>\n",
       "  <use xlink:href=\"#glyph1-19\" x=\"501.461243\" y=\"23.191406\"/>\n",
       "  <use xlink:href=\"#glyph1-14\" x=\"508.941116\" y=\"23.191406\"/>\n",
       "  <use xlink:href=\"#glyph1-9\" x=\"516.42099\" y=\"23.191406\"/>\n",
       "</g>\n",
       "<path style=\"fill:none;stroke-width:1;stroke-linecap:round;stroke-linejoin:round;stroke:rgb(0%,0%,0%);stroke-opacity:1;stroke-miterlimit:10;\" d=\"M 259.199219 334.078125 L 569.519531 334.078125 L 569.519531 51.839844 L 259.199219 51.839844 L 259.199219 334.078125 \"/>\n",
       "</g>\n",
       "</svg>\n"
      ]
     },
     "metadata": {
      "image/svg+xml": {
       "isolated": true
      }
     },
     "output_type": "display_data"
    }
   ],
   "source": [
    "# plot\n",
    "options(repr.plot.width = 8, repr.plot.height = 5)\n",
    "par(mar= c(2,20,4,0.5), cex = 0.9)\n",
    "plot(tt, las=1)"
   ]
  },
  {
   "cell_type": "markdown",
   "metadata": {},
   "source": [
    "### Results\n",
    "\n",
    "As we can see from the F-test, the value given is $F = 19.677$, therefore the means are not equal as there is a statistically significant result from the comparison of the means ($P= 4.16 x 10^{-9}$). \n",
    "\n",
    "Using Tukey's HSD test, we can see which movies are preferred over which. The plot above shows that the Cat with two tails is prefered over undergoal and washing dishes 3 (with p values $p = 0.016$ and $p = 2.7 x 10^{-9}$ respectively), and that undergoal is preferred over Washing Dishes 3 ($p = 0.049$). "
   ]
  },
  {
   "cell_type": "markdown",
   "metadata": {},
   "source": [
    "#### Age and Ratings\n",
    "\n",
    "(f) We found that older people rate movies lower. Using a linear model of Rating as a function of Age, is there evidence that the gradient is not zero? Use the model to predict the expected rating for someone of age 32."
   ]
  },
  {
   "cell_type": "code",
   "execution_count": 36,
   "metadata": {},
   "outputs": [
    {
     "data": {
      "text/plain": [
       "\n",
       "Call:\n",
       "lm(formula = Rating ~ Age, data = project)\n",
       "\n",
       "Coefficients:\n",
       "(Intercept)          Age  \n",
       "    7.94582     -0.01961  \n"
      ]
     },
     "metadata": {},
     "output_type": "display_data"
    },
    {
     "data": {
      "text/plain": [
       "\n",
       "Call:\n",
       "lm(formula = Rating ~ Age, data = project)\n",
       "\n",
       "Residuals:\n",
       "    Min      1Q  Median      3Q     Max \n",
       "-2.0635 -0.4557 -0.1616  0.5836  2.5443 \n",
       "\n",
       "Coefficients:\n",
       "             Estimate Std. Error t value Pr(>|t|)    \n",
       "(Intercept)  7.945823   0.073595 107.966   <2e-16 ***\n",
       "Age         -0.019607   0.002239  -8.756   <2e-16 ***\n",
       "---\n",
       "Signif. codes:  0 '***' 0.001 '**' 0.01 '*' 0.05 '.' 0.1 ' ' 1\n",
       "\n",
       "Residual standard error: 0.7414 on 998 degrees of freedom\n",
       "Multiple R-squared:  0.07134,\tAdjusted R-squared:  0.07041 \n",
       "F-statistic: 76.67 on 1 and 998 DF,  p-value: < 2.2e-16\n"
      ]
     },
     "metadata": {},
     "output_type": "display_data"
    },
    {
     "data": {
      "text/html": [
       "7.31841285317552"
      ],
      "text/latex": [
       "7.31841285317552"
      ],
      "text/markdown": [
       "7.31841285317552"
      ],
      "text/plain": [
       "[1] 7.318413"
      ]
     },
     "metadata": {},
     "output_type": "display_data"
    },
    {
     "name": "stdout",
     "output_type": "stream",
     "text": [
      "The expected rating for a movie given by somebody of the age 32 is:  7.318413"
     ]
    }
   ],
   "source": [
    "#linear model function\n",
    "fit_ratings <- lm(Rating~Age, data = project)\n",
    "fit_ratings\n",
    "# coef(fit_ratings) - allows us to extract intercept and gradient from the fitted model if we want.\n",
    "summary(fit_ratings)\n",
    "# predict expected rating for somebody of age 32\n",
    "#direct\n",
    "exp_rat_32 <- coef(fit_ratings)[[2]]*32 + coef(fit_ratings)[[1]]\n",
    "exp_rat_32\n",
    "#using predict function\n",
    "predict_32 <- predict(fit_ratings, newdata =data.frame(Age=c(32)))\n",
    "cat(\"The expected rating for a movie given by somebody of the age 32 is: \", predict_32[[1]])"
   ]
  },
  {
   "cell_type": "markdown",
   "metadata": {},
   "source": [
    "The null hypothesis is that the gradient is zero, however, we can see that the gradient result is statistically significant - therefore there is evidence that the gradient is not zero.\n",
    "\n",
    "The expected rating for a moving given by somebody of the age of 32 is: 7.318413"
   ]
  }
 ],
 "metadata": {
  "kernelspec": {
   "display_name": "R",
   "language": "R",
   "name": "ir"
  },
  "language_info": {
   "codemirror_mode": "r",
   "file_extension": ".r",
   "mimetype": "text/x-r-source",
   "name": "R",
   "pygments_lexer": "r",
   "version": "3.6.1"
  }
 },
 "nbformat": 4,
 "nbformat_minor": 2
}
